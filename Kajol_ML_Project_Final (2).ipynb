{
 "cells": [
  {
   "cell_type": "code",
   "execution_count": 36,
   "metadata": {},
   "outputs": [],
   "source": [
    "import pandas as pd\n",
    "import numpy as np\n",
    "import matplotlib.pyplot as plt\n",
    "import seaborn as sns"
   ]
  },
  {
   "cell_type": "code",
   "execution_count": 37,
   "metadata": {
    "scrolled": true
   },
   "outputs": [],
   "source": [
    "data = pd.read_csv(\"/home/akshay/Desktop/IIT_courses/Machine_Learning/ML_Project/Datasets/data.csv\", sep='\\t', low_memory=False )"
   ]
  },
  {
   "cell_type": "code",
   "execution_count": 38,
   "metadata": {},
   "outputs": [
    {
     "name": "stdout",
     "output_type": "stream",
     "text": [
      "<class 'pandas.core.frame.DataFrame'>\n",
      "RangeIndex: 39775 entries, 0 to 39774\n",
      "Columns: 172 entries, Q1A to major\n",
      "dtypes: int64(170), object(2)\n",
      "memory usage: 52.2+ MB\n",
      "['Q1A', 'Q1I', 'Q1E', 'Q2A', 'Q2I', 'Q2E', 'Q3A', 'Q3I', 'Q3E', 'Q4A', 'Q4I', 'Q4E', 'Q5A', 'Q5I', 'Q5E', 'Q6A', 'Q6I', 'Q6E', 'Q7A', 'Q7I', 'Q7E', 'Q8A', 'Q8I', 'Q8E', 'Q9A', 'Q9I', 'Q9E', 'Q10A', 'Q10I', 'Q10E', 'Q11A', 'Q11I', 'Q11E', 'Q12A', 'Q12I', 'Q12E', 'Q13A', 'Q13I', 'Q13E', 'Q14A', 'Q14I', 'Q14E', 'Q15A', 'Q15I', 'Q15E', 'Q16A', 'Q16I', 'Q16E', 'Q17A', 'Q17I', 'Q17E', 'Q18A', 'Q18I', 'Q18E', 'Q19A', 'Q19I', 'Q19E', 'Q20A', 'Q20I', 'Q20E', 'Q21A', 'Q21I', 'Q21E', 'Q22A', 'Q22I', 'Q22E', 'Q23A', 'Q23I', 'Q23E', 'Q24A', 'Q24I', 'Q24E', 'Q25A', 'Q25I', 'Q25E', 'Q26A', 'Q26I', 'Q26E', 'Q27A', 'Q27I', 'Q27E', 'Q28A', 'Q28I', 'Q28E', 'Q29A', 'Q29I', 'Q29E', 'Q30A', 'Q30I', 'Q30E', 'Q31A', 'Q31I', 'Q31E', 'Q32A', 'Q32I', 'Q32E', 'Q33A', 'Q33I', 'Q33E', 'Q34A', 'Q34I', 'Q34E', 'Q35A', 'Q35I', 'Q35E', 'Q36A', 'Q36I', 'Q36E', 'Q37A', 'Q37I', 'Q37E', 'Q38A', 'Q38I', 'Q38E', 'Q39A', 'Q39I', 'Q39E', 'Q40A', 'Q40I', 'Q40E', 'Q41A', 'Q41I', 'Q41E', 'Q42A', 'Q42I', 'Q42E', 'country', 'source', 'introelapse', 'testelapse', 'surveyelapse', 'TIPI1', 'TIPI2', 'TIPI3', 'TIPI4', 'TIPI5', 'TIPI6', 'TIPI7', 'TIPI8', 'TIPI9', 'TIPI10', 'VCL1', 'VCL2', 'VCL3', 'VCL4', 'VCL5', 'VCL6', 'VCL7', 'VCL8', 'VCL9', 'VCL10', 'VCL11', 'VCL12', 'VCL13', 'VCL14', 'VCL15', 'VCL16', 'education', 'urban', 'gender', 'engnat', 'age', 'screensize', 'uniquenetworklocation', 'hand', 'religion', 'orientation', 'race', 'voted', 'married', 'familysize', 'major']\n"
     ]
    }
   ],
   "source": [
    "data.info()\n",
    "print(list(data.columns))"
   ]
  },
  {
   "cell_type": "code",
   "execution_count": 39,
   "metadata": {},
   "outputs": [
    {
     "name": "stdout",
     "output_type": "stream",
     "text": [
      "       Q1A  Q1I    Q1E  Q2A  Q2I   Q2E  Q3A  Q3I    Q3E  Q4A  ...  screensize  \\\n",
      "0        4   28   3890    4   25  2122    2   16   1944    4  ...           1   \n",
      "1        4    2   8118    1   36  2890    2   35   4777    3  ...           2   \n",
      "2        3    7   5784    1   33  4373    4   41   3242    1  ...           2   \n",
      "3        2   23   5081    3   11  6837    2   37   5521    1  ...           2   \n",
      "4        2   36   3215    2   13  7731    3    5   4156    4  ...           2   \n",
      "5        1   18   6116    1   28  3193    2    2  12542    1  ...           2   \n",
      "6        1   20   4325    1   34  4009    2   38   3604    3  ...           2   \n",
      "7        1   34   4796    1    9  2618    1   39   5823    1  ...           2   \n",
      "8        4    4   3470    4   14  2139    3    1  11043    4  ...           1   \n",
      "9        3   38   5187    2   28  2600    4    9   2015    1  ...           2   \n",
      "10       3   38   3352    1   16  4322    2   28   3083    1  ...           1   \n",
      "11       3   37   4024    3   35  2116    2   18   3408    2  ...           1   \n",
      "12       1   35   3055    1   24  1812    1   30   3266    1  ...           1   \n",
      "13       1   28   2890    4   20  3910    1   26   3132    2  ...           2   \n",
      "14       1   10   2901    1    1  9036    1   22   3775    1  ...           2   \n",
      "15       3   17   2316    1   18  2450    2   11   3143    2  ...           1   \n",
      "16       3   15   2789    1    3  4500    2   25   3900    2  ...           2   \n",
      "17       3   17   2507    1   27  1334    2   38   1864    1  ...           1   \n",
      "18       3    5   6729    2    4  4793    2   20   3328    1  ...           2   \n",
      "19       2    8   4144    2   27  4442    2   37   7254    1  ...           2   \n",
      "20       3    1   9774    1   38  2011    2   28   2618    1  ...           2   \n",
      "21       3   41  50135    1   11  2033    2   38   3882    1  ...           1   \n",
      "22       3   23   2129    2    3  1960    3   38   3423    4  ...           1   \n",
      "23       3   14   6074    2    6  5943    2   31   4097    2  ...           2   \n",
      "24       2   23   3617    3    6  2759    2   25   8769    1  ...           2   \n",
      "25       4   23   2453    1    6  7105    4   21   1923    2  ...           1   \n",
      "26       4    1   4820    4   39  1109    4    8   1833    4  ...           1   \n",
      "27       2   28   2984    2   35  3838    1   11   3116    2  ...           1   \n",
      "28       4   12   2431    3    3  9289    4   15   3330    4  ...           2   \n",
      "29       1    9   2236    1   10  1437    2    7   2570    1  ...           1   \n",
      "...    ...  ...    ...  ...  ...   ...  ...  ...    ...  ...  ...         ...   \n",
      "39745    4    5   5117    4   22  2535    3   40   5404    2  ...           1   \n",
      "39746    3   21   4993    2   36  5032    3   26   3601    4  ...           2   \n",
      "39747    2   10   3105    1   34  1568    1    3   3298    1  ...           1   \n",
      "39748    4    1   1452    1   10  3873    4   14   3810    2  ...           1   \n",
      "39749    4    7   3485    3    3  2858    3   33   2691    2  ...           1   \n",
      "39750    3   15   2892    4   24  1848    4   12   2395    4  ...           1   \n",
      "39751    3   39   2732    3    6  9276    3   42   3908    3  ...           1   \n",
      "39752    4    8    256    4   14   202    3   25    196    3  ...           1   \n",
      "39753    3    2  12619    2    1  6056    2   36   2931    1  ...           1   \n",
      "39754    2    2   5456    1    6  1842    1   41   3933    1  ...           2   \n",
      "39755    4   17   6501    1   38  3059    4    3   5276    2  ...           1   \n",
      "39756    4   34   2851    2   42  3963    3   29   2710    2  ...           1   \n",
      "39757    4   22   2302    1   30  3209    3    1  10521    1  ...           2   \n",
      "39758    4   11   2249    4    6  1465    2   15   1801    2  ...           2   \n",
      "39759    2   41  15596    1   24  1818    2   25   1921    1  ...           2   \n",
      "39760    2   18   3082    1   39  1889    2   28   4212    1  ...           1   \n",
      "39761    2   35   3451    1   23  3002    1   33   2576    1  ...           2   \n",
      "39762    1   27   2977    2   34  4702    1   20   3981    1  ...           1   \n",
      "39763    2   23   2810    2   21  2441    2   33   3680    2  ...           1   \n",
      "39764    2   17   5521    2   40  5088    1   19   2535    1  ...           2   \n",
      "39765    4   36   2575    4   30  1963    3   25   4121    3  ...           1   \n",
      "39766    2   39   2305    1   33  2188    1    7   1924    2  ...           2   \n",
      "39767    4    1  14275    4    4  4721    4   33   3934    3  ...           1   \n",
      "39768    2   12   5614    1   10  1649    1   20   2988    1  ...           2   \n",
      "39769    3   32  28897    4    4  3025    2   30   3248    2  ...           2   \n",
      "39770    2   31   3287    1    5  2216    3   29   3895    2  ...           2   \n",
      "39771    3   14   4792    4   41  2604    3   15   2668    4  ...           1   \n",
      "39772    2    1  25147    1    4  4555    2   14   3388    1  ...           2   \n",
      "39773    3   36   4286    1   34  2736    2   10   5968    2  ...           2   \n",
      "39774    2   28  32251    1   22  3317    2    4  11734    1  ...           1   \n",
      "\n",
      "       uniquenetworklocation  hand  religion  orientation  race  voted  \\\n",
      "0                          1     1        12            1    10      2   \n",
      "1                          1     2         7            0    70      2   \n",
      "2                          1     1         4            3    60      1   \n",
      "3                          1     2         4            5    70      2   \n",
      "4                          2     3        10            1    10      2   \n",
      "5                          1     1         4            1    70      2   \n",
      "6                          1     1         7            2    60      2   \n",
      "7                          1     1         2            2    60      1   \n",
      "8                          1     1        12            2    70      2   \n",
      "9                          1     1         2            2    60      2   \n",
      "10                         1     1         6            1    60      2   \n",
      "11                         1     1         6            1    60      2   \n",
      "12                         1     1         1            1    60      2   \n",
      "13                         1     1        12            1    60      2   \n",
      "14                         1     1         1            1    60      1   \n",
      "15                         1     1         1            2    60      2   \n",
      "16                         1     1         7            1    60      2   \n",
      "17                         1     1        12            1    60      2   \n",
      "18                         1     3         2            1    60      2   \n",
      "19                         1     1         4            2    50      2   \n",
      "20                         1     1         4            1    60      2   \n",
      "21                         1     1         6            1    60      2   \n",
      "22                         1     1         1            2    60      2   \n",
      "23                         1     1         4            1    70      2   \n",
      "24                         1     1         7            1    60      1   \n",
      "25                         1     1         1            4    10      2   \n",
      "26                         1     1         7            1    60      2   \n",
      "27                         1     3         7            2    60      2   \n",
      "28                         1     1         1            2    70      2   \n",
      "29                         1     1         1            5    70      2   \n",
      "...                      ...   ...       ...          ...   ...    ...   \n",
      "39745                      1     1        10            1    10      2   \n",
      "39746                      1     1         1            1    10      2   \n",
      "39747                      1     2        10            1    10      2   \n",
      "39748                      1     2        10            2    10      1   \n",
      "39749                      1     1        10            3    10      2   \n",
      "39750                      1     1         9            1    10      2   \n",
      "39751                      1     1         7            5    40      2   \n",
      "39752                      2     1        10            1    10      2   \n",
      "39753                      1     2        10            1    10      2   \n",
      "39754                      2     1        10            1    10      1   \n",
      "39755                      1     1        10            3    20      2   \n",
      "39756                      2     1        10            1    10      2   \n",
      "39757                      2     1        10            1    10      2   \n",
      "39758                      1     1         2            1    60      2   \n",
      "39759                      2     1        10            1    10      2   \n",
      "39760                      1     1        10            5    10      2   \n",
      "39761                      2     1        10            1    10      1   \n",
      "39762                      1     1        10            1    10      2   \n",
      "39763                      1     1        10            4    10      2   \n",
      "39764                      1     2        12            1    70      2   \n",
      "39765                      1     1        10            0    10      1   \n",
      "39766                      1     1         4            1    70      1   \n",
      "39767                      1     1        10            1    20      2   \n",
      "39768                      1     1         4            1    60      1   \n",
      "39769                      1     1         1            1    70      2   \n",
      "39770                      1     1         2            4    60      2   \n",
      "39771                      1     1        10            0    10      2   \n",
      "39772                      1     1         7            1    30      1   \n",
      "39773                      1     1         6            1    60      1   \n",
      "39774                      1     1        10            1    10      1   \n",
      "\n",
      "       married  familysize                                     major  \n",
      "0            1           2                                       NaN  \n",
      "1            1           4                                       NaN  \n",
      "2            1           3                                       NaN  \n",
      "3            1           5                                   biology  \n",
      "4            1           4                                Psychology  \n",
      "5            1           4                                       NaN  \n",
      "6            1           4                 Mechatronics engeenerieng  \n",
      "7            1           2                                     Music  \n",
      "8            1           4                               Psychology   \n",
      "9            1           3                      computer programming  \n",
      "10           1           1                                       NaN  \n",
      "11           1           2                                       NaN  \n",
      "12           1           2                                 Sociology  \n",
      "13           1           5                                       Art  \n",
      "14           3           2         Biology and Philosophy dual major  \n",
      "15           1           1                                       NaN  \n",
      "16           1           2               criminal justice; sociology  \n",
      "17           1           5                             Hairdressing   \n",
      "18           1           1                          Computer Science  \n",
      "19           1           2                                  Business  \n",
      "20           1           5                                       NaN  \n",
      "21           1           1                                       NaN  \n",
      "22           1           1                                       NaN  \n",
      "23           1           3                                psychology  \n",
      "24           1           3                         Civil Engineering  \n",
      "25           1           2                                       NaN  \n",
      "26           1           3                                    Acting  \n",
      "27           1           1                                       NaN  \n",
      "28           1           2                                   Biology  \n",
      "29           1           3                                       NaN  \n",
      "...        ...         ...                                       ...  \n",
      "39745        1           2                       Literature and arts  \n",
      "39746        1           1  &#22810;&#23186;&#39636;&#35373;&#35336;  \n",
      "39747        1           4                               management   \n",
      "39748        1           5                                       NaN  \n",
      "39749        1           5                                 chemistry  \n",
      "39750        1           5                                       NaN  \n",
      "39751        1           6                                       NaN  \n",
      "39752        1           4                    Mechanical engineering  \n",
      "39753        1           5                                   Science  \n",
      "39754        1           4                                  Medicine  \n",
      "39755        1           5                                 Medicine   \n",
      "39756        1           5                                  Science   \n",
      "39757        1           4                                   English  \n",
      "39758        1           1                                       NaN  \n",
      "39759        1           4                                       NaN  \n",
      "39760        1           3        public relation or administrations  \n",
      "39761        2           3                                  medicine  \n",
      "39762        1           4                           Social science   \n",
      "39763        1           6                                       law  \n",
      "39764        1           2                           computer sciece  \n",
      "39765        2           6                                   Medical  \n",
      "39766        1           2                                counseling  \n",
      "39767        1           2                                   English  \n",
      "39768        1           3                                Psychology  \n",
      "39769        1           3                                       NaN  \n",
      "39770        1           2                                       NaN  \n",
      "39771        1           4                                Mathematic  \n",
      "39772        2           3                          Computer Science  \n",
      "39773        1           2                                   History  \n",
      "39774        1           4                         Cognitive Science  \n",
      "\n",
      "[39775 rows x 172 columns]\n"
     ]
    }
   ],
   "source": [
    "print(data)"
   ]
  },
  {
   "cell_type": "code",
   "execution_count": 40,
   "metadata": {},
   "outputs": [
    {
     "data": {
      "text/plain": [
       "pandas.core.frame.DataFrame"
      ]
     },
     "execution_count": 40,
     "metadata": {},
     "output_type": "execute_result"
    }
   ],
   "source": [
    "type(data)"
   ]
  },
  {
   "cell_type": "code",
   "execution_count": 41,
   "metadata": {
    "scrolled": true
   },
   "outputs": [
    {
     "data": {
      "text/plain": [
       "dtype('int64')"
      ]
     },
     "execution_count": 41,
     "metadata": {},
     "output_type": "execute_result"
    }
   ],
   "source": [
    "data[\"Q1A\"].dtype"
   ]
  },
  {
   "cell_type": "code",
   "execution_count": 42,
   "metadata": {},
   "outputs": [],
   "source": [
    "#data[\"Q1A\"] = data[\"Q1A\"].replace([4, 3, 2, 1],[3, 2, 1, 0])\n"
   ]
  },
  {
   "cell_type": "code",
   "execution_count": 43,
   "metadata": {},
   "outputs": [],
   "source": [
    "#changing the response values from range 1-4 to 0-3 for the Dass 42 scales\n",
    "for i in range(0,124):\n",
    "    data.iloc[:, i] = data.iloc[:, i].replace([4, 3, 2, 1],[3, 2, 1, 0])\n",
    "    i = i+3\n",
    "\n",
    "\n",
    "    "
   ]
  },
  {
   "cell_type": "code",
   "execution_count": 44,
   "metadata": {},
   "outputs": [
    {
     "name": "stdout",
     "output_type": "stream",
     "text": [
      "       Q1A  Q1I    Q1E  Q2A  Q2I   Q2E  Q3A  Q3I    Q3E  Q4A  ...  screensize  \\\n",
      "0        3   28   3890    3   25  2122    1   16   1944    3  ...           1   \n",
      "1        3    1   8118    0   36  2890    1   35   4777    2  ...           2   \n",
      "2        2    7   5784    0   33  4373    3   41   3242    0  ...           2   \n",
      "3        1   23   5081    2   11  6837    1   37   5521    0  ...           2   \n",
      "4        1   36   3215    1   13  7731    2    5   4156    3  ...           2   \n",
      "5        0   18   6116    0   28  3193    1    1  12542    0  ...           2   \n",
      "6        0   20   4325    0   34  4009    1   38   3604    2  ...           2   \n",
      "7        0   34   4796    0    9  2618    0   39   5823    0  ...           2   \n",
      "8        3    3   3470    3   14  2139    2    0  11043    3  ...           1   \n",
      "9        2   38   5187    1   28  2600    3    9   2015    0  ...           2   \n",
      "10       2   38   3352    0   16  4322    1   28   3083    0  ...           1   \n",
      "11       2   37   4024    2   35  2116    1   18   3408    1  ...           1   \n",
      "12       0   35   3055    0   24  1812    0   30   3266    0  ...           1   \n",
      "13       0   28   2890    3   20  3910    0   26   3132    1  ...           2   \n",
      "14       0   10   2901    0    0  9036    0   22   3775    0  ...           2   \n",
      "15       2   17   2316    0   18  2450    1   11   3143    1  ...           1   \n",
      "16       2   15   2789    0    2  4500    1   25   3900    1  ...           2   \n",
      "17       2   17   2507    0   27  1334    1   38   1864    0  ...           1   \n",
      "18       2    5   6729    1    3  4793    1   20   3328    0  ...           2   \n",
      "19       1    8   4144    1   27  4442    1   37   7254    0  ...           2   \n",
      "20       2    0   9774    0   38  2011    1   28   2618    0  ...           2   \n",
      "21       2   41  50135    0   11  2033    1   38   3882    0  ...           1   \n",
      "22       2   23   2129    1    2  1960    2   38   3423    3  ...           1   \n",
      "23       2   14   6074    1    6  5943    1   31   4097    1  ...           2   \n",
      "24       1   23   3617    2    6  2759    1   25   8769    0  ...           2   \n",
      "25       3   23   2453    0    6  7105    3   21   1923    1  ...           1   \n",
      "26       3    0   4820    3   39  1109    3    8   1833    3  ...           1   \n",
      "27       1   28   2984    1   35  3838    0   11   3116    1  ...           1   \n",
      "28       3   12   2431    2    2  9289    3   15   3330    3  ...           2   \n",
      "29       0    9   2236    0   10  1437    1    7   2570    0  ...           1   \n",
      "...    ...  ...    ...  ...  ...   ...  ...  ...    ...  ...  ...         ...   \n",
      "39745    3    5   5117    3   22  2535    2   40   5404    1  ...           1   \n",
      "39746    2   21   4993    1   36  5032    2   26   3601    3  ...           2   \n",
      "39747    1   10   3105    0   34  1568    0    2   3298    0  ...           1   \n",
      "39748    3    0   1452    0   10  3873    3   14   3810    1  ...           1   \n",
      "39749    3    7   3485    2    2  2858    2   33   2691    1  ...           1   \n",
      "39750    2   15   2892    3   24  1848    3   12   2395    3  ...           1   \n",
      "39751    2   39   2732    2    6  9276    2   42   3908    2  ...           1   \n",
      "39752    3    8    256    3   14   202    2   25    196    2  ...           1   \n",
      "39753    2    1  12619    1    0  6056    1   36   2931    0  ...           1   \n",
      "39754    1    1   5456    0    6  1842    0   41   3933    0  ...           2   \n",
      "39755    3   17   6501    0   38  3059    3    2   5276    1  ...           1   \n",
      "39756    3   34   2851    1   42  3963    2   29   2710    1  ...           1   \n",
      "39757    3   22   2302    0   30  3209    2    0  10521    0  ...           2   \n",
      "39758    3   11   2249    3    6  1465    1   15   1801    1  ...           2   \n",
      "39759    1   41  15596    0   24  1818    1   25   1921    0  ...           2   \n",
      "39760    1   18   3082    0   39  1889    1   28   4212    0  ...           1   \n",
      "39761    1   35   3451    0   23  3002    0   33   2576    0  ...           2   \n",
      "39762    0   27   2977    1   34  4702    0   20   3981    0  ...           1   \n",
      "39763    1   23   2810    1   21  2441    1   33   3680    1  ...           1   \n",
      "39764    1   17   5521    1   40  5088    0   19   2535    0  ...           2   \n",
      "39765    3   36   2575    3   30  1963    2   25   4121    2  ...           1   \n",
      "39766    1   39   2305    0   33  2188    0    7   1924    1  ...           2   \n",
      "39767    3    0  14275    3    3  4721    3   33   3934    2  ...           1   \n",
      "39768    1   12   5614    0   10  1649    0   20   2988    0  ...           2   \n",
      "39769    2   32  28897    3    3  3025    1   30   3248    1  ...           2   \n",
      "39770    1   31   3287    0    5  2216    2   29   3895    1  ...           2   \n",
      "39771    2   14   4792    3   41  2604    2   15   2668    3  ...           1   \n",
      "39772    1    0  25147    0    3  4555    1   14   3388    0  ...           2   \n",
      "39773    2   36   4286    0   34  2736    1   10   5968    1  ...           2   \n",
      "39774    1   28  32251    0   22  3317    1    3  11734    0  ...           1   \n",
      "\n",
      "       uniquenetworklocation  hand  religion  orientation  race  voted  \\\n",
      "0                          1     1        12            1    10      2   \n",
      "1                          1     2         7            0    70      2   \n",
      "2                          1     1         4            3    60      1   \n",
      "3                          1     2         4            5    70      2   \n",
      "4                          2     3        10            1    10      2   \n",
      "5                          1     1         4            1    70      2   \n",
      "6                          1     1         7            2    60      2   \n",
      "7                          1     1         2            2    60      1   \n",
      "8                          1     1        12            2    70      2   \n",
      "9                          1     1         2            2    60      2   \n",
      "10                         1     1         6            1    60      2   \n",
      "11                         1     1         6            1    60      2   \n",
      "12                         1     1         1            1    60      2   \n",
      "13                         1     1        12            1    60      2   \n",
      "14                         1     1         1            1    60      1   \n",
      "15                         1     1         1            2    60      2   \n",
      "16                         1     1         7            1    60      2   \n",
      "17                         1     1        12            1    60      2   \n",
      "18                         1     3         2            1    60      2   \n",
      "19                         1     1         4            2    50      2   \n",
      "20                         1     1         4            1    60      2   \n",
      "21                         1     1         6            1    60      2   \n",
      "22                         1     1         1            2    60      2   \n",
      "23                         1     1         4            1    70      2   \n",
      "24                         1     1         7            1    60      1   \n",
      "25                         1     1         1            4    10      2   \n",
      "26                         1     1         7            1    60      2   \n",
      "27                         1     3         7            2    60      2   \n",
      "28                         1     1         1            2    70      2   \n",
      "29                         1     1         1            5    70      2   \n",
      "...                      ...   ...       ...          ...   ...    ...   \n",
      "39745                      1     1        10            1    10      2   \n",
      "39746                      1     1         1            1    10      2   \n",
      "39747                      1     2        10            1    10      2   \n",
      "39748                      1     2        10            2    10      1   \n",
      "39749                      1     1        10            3    10      2   \n",
      "39750                      1     1         9            1    10      2   \n",
      "39751                      1     1         7            5    40      2   \n",
      "39752                      2     1        10            1    10      2   \n",
      "39753                      1     2        10            1    10      2   \n",
      "39754                      2     1        10            1    10      1   \n",
      "39755                      1     1        10            3    20      2   \n",
      "39756                      2     1        10            1    10      2   \n",
      "39757                      2     1        10            1    10      2   \n",
      "39758                      1     1         2            1    60      2   \n",
      "39759                      2     1        10            1    10      2   \n",
      "39760                      1     1        10            5    10      2   \n",
      "39761                      2     1        10            1    10      1   \n",
      "39762                      1     1        10            1    10      2   \n",
      "39763                      1     1        10            4    10      2   \n",
      "39764                      1     2        12            1    70      2   \n",
      "39765                      1     1        10            0    10      1   \n",
      "39766                      1     1         4            1    70      1   \n",
      "39767                      1     1        10            1    20      2   \n",
      "39768                      1     1         4            1    60      1   \n",
      "39769                      1     1         1            1    70      2   \n",
      "39770                      1     1         2            4    60      2   \n",
      "39771                      1     1        10            0    10      2   \n",
      "39772                      1     1         7            1    30      1   \n",
      "39773                      1     1         6            1    60      1   \n",
      "39774                      1     1        10            1    10      1   \n",
      "\n",
      "       married  familysize                                     major  \n",
      "0            1           2                                       NaN  \n",
      "1            1           4                                       NaN  \n",
      "2            1           3                                       NaN  \n",
      "3            1           5                                   biology  \n",
      "4            1           4                                Psychology  \n",
      "5            1           4                                       NaN  \n",
      "6            1           4                 Mechatronics engeenerieng  \n",
      "7            1           2                                     Music  \n",
      "8            1           4                               Psychology   \n",
      "9            1           3                      computer programming  \n",
      "10           1           1                                       NaN  \n",
      "11           1           2                                       NaN  \n",
      "12           1           2                                 Sociology  \n",
      "13           1           5                                       Art  \n",
      "14           3           2         Biology and Philosophy dual major  \n",
      "15           1           1                                       NaN  \n",
      "16           1           2               criminal justice; sociology  \n",
      "17           1           5                             Hairdressing   \n",
      "18           1           1                          Computer Science  \n",
      "19           1           2                                  Business  \n",
      "20           1           5                                       NaN  \n",
      "21           1           1                                       NaN  \n",
      "22           1           1                                       NaN  \n",
      "23           1           3                                psychology  \n",
      "24           1           3                         Civil Engineering  \n",
      "25           1           2                                       NaN  \n",
      "26           1           3                                    Acting  \n",
      "27           1           1                                       NaN  \n",
      "28           1           2                                   Biology  \n",
      "29           1           3                                       NaN  \n",
      "...        ...         ...                                       ...  \n",
      "39745        1           2                       Literature and arts  \n",
      "39746        1           1  &#22810;&#23186;&#39636;&#35373;&#35336;  \n",
      "39747        1           4                               management   \n",
      "39748        1           5                                       NaN  \n",
      "39749        1           5                                 chemistry  \n",
      "39750        1           5                                       NaN  \n",
      "39751        1           6                                       NaN  \n",
      "39752        1           4                    Mechanical engineering  \n",
      "39753        1           5                                   Science  \n",
      "39754        1           4                                  Medicine  \n",
      "39755        1           5                                 Medicine   \n",
      "39756        1           5                                  Science   \n",
      "39757        1           4                                   English  \n",
      "39758        1           1                                       NaN  \n",
      "39759        1           4                                       NaN  \n",
      "39760        1           3        public relation or administrations  \n",
      "39761        2           3                                  medicine  \n",
      "39762        1           4                           Social science   \n",
      "39763        1           6                                       law  \n",
      "39764        1           2                           computer sciece  \n",
      "39765        2           6                                   Medical  \n",
      "39766        1           2                                counseling  \n",
      "39767        1           2                                   English  \n",
      "39768        1           3                                Psychology  \n",
      "39769        1           3                                       NaN  \n",
      "39770        1           2                                       NaN  \n",
      "39771        1           4                                Mathematic  \n",
      "39772        2           3                          Computer Science  \n",
      "39773        1           2                                   History  \n",
      "39774        1           4                         Cognitive Science  \n",
      "\n",
      "[39775 rows x 172 columns]\n"
     ]
    }
   ],
   "source": [
    "print(data)"
   ]
  },
  {
   "cell_type": "code",
   "execution_count": 45,
   "metadata": {
    "scrolled": true
   },
   "outputs": [
    {
     "data": {
      "text/plain": [
       "array(['IN', 'US', 'PL', 'MY', 'MX', 'GB', 'DE', 'EE', 'CA', 'EC', 'AU',\n",
       "       'FI', 'ID', 'AE', 'NONE', 'ES', 'NI', 'DO', 'TR', 'NO', 'GR', 'LK',\n",
       "       'BR', 'AR', 'KH', 'IT', 'MK', 'PT', 'BA', 'RU', 'HU', 'KR', 'IE',\n",
       "       'RS', 'CZ', 'PH', 'RO', 'FR', 'SG', 'AT', 'UA', 'KW', 'CO', 'GE',\n",
       "       'SE', 'HK', 'NZ', 'ZA', 'NL', 'DK', 'JM', 'LB', 'CL', 'AW', 'IL',\n",
       "       'GT', 'PE', 'PK', 'NP', 'HR', 'CR', 'VE', 'BG', 'GH', 'MA', 'PR',\n",
       "       'SI', 'LV', 'AL', 'VN', 'GU', 'BD', 'TH', 'NG', 'FO', 'UY', 'EG',\n",
       "       'BE', 'SA', 'SV', 'CH', 'PY', 'SK', 'SY', 'TN', 'TT', 'SR', 'KE',\n",
       "       'BY', 'PA', 'CY', 'BW', 'MZ', 'BB', 'GG', 'CW', 'IS', 'IR', 'BN',\n",
       "       'MV', 'OM', 'DZ', 'JP', 'MU', nan, 'IQ', 'BO', 'MD', 'CN', 'LT',\n",
       "       'BZ', 'BH', 'ME', 'QA', 'TW', 'PS', 'JO', 'SD', 'KY', 'AZ', 'AO',\n",
       "       'BS', 'GY', 'MO', 'TZ', 'IM', 'AF', 'AM', 'UZ', 'LU', 'ET', 'JE',\n",
       "       'VU', 'TJ', 'KZ', 'XK', 'HN', 'ZW', 'LA', 'MT', 'SN', 'MN', 'TG',\n",
       "       'SC', 'RE', 'VC'], dtype=object)"
      ]
     },
     "execution_count": 45,
     "metadata": {},
     "output_type": "execute_result"
    }
   ],
   "source": [
    "data['country'].unique()"
   ]
  },
  {
   "cell_type": "code",
   "execution_count": 46,
   "metadata": {
    "scrolled": true
   },
   "outputs": [
    {
     "name": "stdout",
     "output_type": "stream",
     "text": [
      "['Q1A', 'Q1I', 'Q1E', 'Q2A', 'Q2I', 'Q2E', 'Q3A', 'Q3I', 'Q3E', 'Q4A', 'Q4I', 'Q4E', 'Q5A', 'Q5I', 'Q5E', 'Q6A', 'Q6I', 'Q6E', 'Q7A', 'Q7I', 'Q7E', 'Q8A', 'Q8I', 'Q8E', 'Q9A', 'Q9I', 'Q9E', 'Q10A', 'Q10I', 'Q10E', 'Q11A', 'Q11I', 'Q11E', 'Q12A', 'Q12I', 'Q12E', 'Q13A', 'Q13I', 'Q13E', 'Q14A', 'Q14I', 'Q14E', 'Q15A', 'Q15I', 'Q15E', 'Q16A', 'Q16I', 'Q16E', 'Q17A', 'Q17I', 'Q17E', 'Q18A', 'Q18I', 'Q18E', 'Q19A', 'Q19I', 'Q19E', 'Q20A', 'Q20I', 'Q20E', 'Q21A', 'Q21I', 'Q21E', 'Q22A', 'Q22I', 'Q22E', 'Q23A', 'Q23I', 'Q23E', 'Q24A', 'Q24I', 'Q24E', 'Q25A', 'Q25I', 'Q25E', 'Q26A', 'Q26I', 'Q26E', 'Q27A', 'Q27I', 'Q27E', 'Q28A', 'Q28I', 'Q28E', 'Q29A', 'Q29I', 'Q29E', 'Q30A', 'Q30I', 'Q30E', 'Q31A', 'Q31I', 'Q31E', 'Q32A', 'Q32I', 'Q32E', 'Q33A', 'Q33I', 'Q33E', 'Q34A', 'Q34I', 'Q34E', 'Q35A', 'Q35I', 'Q35E', 'Q36A', 'Q36I', 'Q36E', 'Q37A', 'Q37I', 'Q37E', 'Q38A', 'Q38I', 'Q38E', 'Q39A', 'Q39I', 'Q39E', 'Q40A', 'Q40I', 'Q40E', 'Q41A', 'Q41I', 'Q41E', 'Q42A', 'Q42I', 'Q42E', 'source', 'introelapse', 'testelapse', 'surveyelapse', 'TIPI1', 'TIPI2', 'TIPI3', 'TIPI4', 'TIPI5', 'TIPI6', 'TIPI7', 'TIPI8', 'TIPI9', 'TIPI10', 'VCL1', 'VCL2', 'VCL3', 'VCL4', 'VCL5', 'VCL6', 'VCL7', 'VCL8', 'VCL9', 'VCL10', 'VCL11', 'VCL12', 'VCL13', 'VCL14', 'VCL15', 'VCL16', 'education', 'urban', 'gender', 'engnat', 'age', 'screensize', 'uniquenetworklocation', 'hand', 'religion', 'orientation', 'race', 'voted', 'married', 'familysize']\n"
     ]
    }
   ],
   "source": [
    "data = data.drop(['country','major'],axis=1)\n",
    "\n",
    "print(list(data.columns))"
   ]
  },
  {
   "cell_type": "code",
   "execution_count": 136,
   "metadata": {},
   "outputs": [
    {
     "ename": "KeyboardInterrupt",
     "evalue": "",
     "output_type": "error",
     "traceback": [
      "\u001b[0;31m---------------------------------------------------------------------------\u001b[0m",
      "\u001b[0;31mKeyboardInterrupt\u001b[0m                         Traceback (most recent call last)",
      "\u001b[0;32m<ipython-input-136-9c9bec52e066>\u001b[0m in \u001b[0;36m<module>\u001b[0;34m\u001b[0m\n\u001b[1;32m      3\u001b[0m     \u001b[0;32mfor\u001b[0m \u001b[0mj\u001b[0m \u001b[0;32min\u001b[0m \u001b[0mrange\u001b[0m\u001b[0;34m(\u001b[0m\u001b[0;36m0\u001b[0m\u001b[0;34m,\u001b[0m \u001b[0;36m39775\u001b[0m\u001b[0;34m)\u001b[0m\u001b[0;34m:\u001b[0m\u001b[0;34m\u001b[0m\u001b[0;34m\u001b[0m\u001b[0m\n\u001b[1;32m      4\u001b[0m         \u001b[0;32mif\u001b[0m\u001b[0;34m(\u001b[0m\u001b[0mdata\u001b[0m\u001b[0;34m.\u001b[0m\u001b[0miloc\u001b[0m\u001b[0;34m[\u001b[0m\u001b[0mj\u001b[0m\u001b[0;34m,\u001b[0m \u001b[0mi\u001b[0m\u001b[0;34m+\u001b[0m\u001b[0;36m2\u001b[0m\u001b[0;34m]\u001b[0m \u001b[0;34m>\u001b[0m \u001b[0;36m25000\u001b[0m\u001b[0;34m)\u001b[0m\u001b[0;34m:\u001b[0m\u001b[0;34m\u001b[0m\u001b[0;34m\u001b[0m\u001b[0m\n\u001b[0;32m----> 5\u001b[0;31m             \u001b[0mdata\u001b[0m\u001b[0;34m.\u001b[0m\u001b[0miloc\u001b[0m\u001b[0;34m[\u001b[0m\u001b[0mj\u001b[0m\u001b[0;34m,\u001b[0m \u001b[0mi\u001b[0m\u001b[0;34m]\u001b[0m \u001b[0;34m=\u001b[0m \u001b[0;36m0\u001b[0m\u001b[0;34m\u001b[0m\u001b[0;34m\u001b[0m\u001b[0m\n\u001b[0m\u001b[1;32m      6\u001b[0m         \u001b[0mj\u001b[0m \u001b[0;34m=\u001b[0m \u001b[0mj\u001b[0m\u001b[0;34m+\u001b[0m\u001b[0;36m1\u001b[0m\u001b[0;34m\u001b[0m\u001b[0;34m\u001b[0m\u001b[0m\n\u001b[1;32m      7\u001b[0m     \u001b[0mi\u001b[0m \u001b[0;34m=\u001b[0m \u001b[0mi\u001b[0m\u001b[0;34m+\u001b[0m\u001b[0;36m3\u001b[0m\u001b[0;34m\u001b[0m\u001b[0;34m\u001b[0m\u001b[0m\n",
      "\u001b[0;32m~/anaconda3/lib/python3.7/site-packages/pandas/core/indexing.py\u001b[0m in \u001b[0;36m__setitem__\u001b[0;34m(self, key, value)\u001b[0m\n\u001b[1;32m    188\u001b[0m             \u001b[0mkey\u001b[0m \u001b[0;34m=\u001b[0m \u001b[0mcom\u001b[0m\u001b[0;34m.\u001b[0m\u001b[0mapply_if_callable\u001b[0m\u001b[0;34m(\u001b[0m\u001b[0mkey\u001b[0m\u001b[0;34m,\u001b[0m \u001b[0mself\u001b[0m\u001b[0;34m.\u001b[0m\u001b[0mobj\u001b[0m\u001b[0;34m)\u001b[0m\u001b[0;34m\u001b[0m\u001b[0;34m\u001b[0m\u001b[0m\n\u001b[1;32m    189\u001b[0m         \u001b[0mindexer\u001b[0m \u001b[0;34m=\u001b[0m \u001b[0mself\u001b[0m\u001b[0;34m.\u001b[0m\u001b[0m_get_setitem_indexer\u001b[0m\u001b[0;34m(\u001b[0m\u001b[0mkey\u001b[0m\u001b[0;34m)\u001b[0m\u001b[0;34m\u001b[0m\u001b[0;34m\u001b[0m\u001b[0m\n\u001b[0;32m--> 190\u001b[0;31m         \u001b[0mself\u001b[0m\u001b[0;34m.\u001b[0m\u001b[0m_setitem_with_indexer\u001b[0m\u001b[0;34m(\u001b[0m\u001b[0mindexer\u001b[0m\u001b[0;34m,\u001b[0m \u001b[0mvalue\u001b[0m\u001b[0;34m)\u001b[0m\u001b[0;34m\u001b[0m\u001b[0;34m\u001b[0m\u001b[0m\n\u001b[0m\u001b[1;32m    191\u001b[0m \u001b[0;34m\u001b[0m\u001b[0m\n\u001b[1;32m    192\u001b[0m     \u001b[0;32mdef\u001b[0m \u001b[0m_validate_key\u001b[0m\u001b[0;34m(\u001b[0m\u001b[0mself\u001b[0m\u001b[0;34m,\u001b[0m \u001b[0mkey\u001b[0m\u001b[0;34m,\u001b[0m \u001b[0maxis\u001b[0m\u001b[0;34m)\u001b[0m\u001b[0;34m:\u001b[0m\u001b[0;34m\u001b[0m\u001b[0;34m\u001b[0m\u001b[0m\n",
      "\u001b[0;32m~/anaconda3/lib/python3.7/site-packages/pandas/core/indexing.py\u001b[0m in \u001b[0;36m_setitem_with_indexer\u001b[0;34m(self, indexer, value)\u001b[0m\n\u001b[1;32m    654\u001b[0m             \u001b[0mself\u001b[0m\u001b[0;34m.\u001b[0m\u001b[0mobj\u001b[0m\u001b[0;34m.\u001b[0m\u001b[0m_consolidate_inplace\u001b[0m\u001b[0;34m(\u001b[0m\u001b[0;34m)\u001b[0m\u001b[0;34m\u001b[0m\u001b[0;34m\u001b[0m\u001b[0m\n\u001b[1;32m    655\u001b[0m             self.obj._data = self.obj._data.setitem(indexer=indexer,\n\u001b[0;32m--> 656\u001b[0;31m                                                     value=value)\n\u001b[0m\u001b[1;32m    657\u001b[0m             \u001b[0mself\u001b[0m\u001b[0;34m.\u001b[0m\u001b[0mobj\u001b[0m\u001b[0;34m.\u001b[0m\u001b[0m_maybe_update_cacher\u001b[0m\u001b[0;34m(\u001b[0m\u001b[0mclear\u001b[0m\u001b[0;34m=\u001b[0m\u001b[0;32mTrue\u001b[0m\u001b[0;34m)\u001b[0m\u001b[0;34m\u001b[0m\u001b[0;34m\u001b[0m\u001b[0m\n\u001b[1;32m    658\u001b[0m \u001b[0;34m\u001b[0m\u001b[0m\n",
      "\u001b[0;32m~/anaconda3/lib/python3.7/site-packages/pandas/core/internals/managers.py\u001b[0m in \u001b[0;36msetitem\u001b[0;34m(self, **kwargs)\u001b[0m\n\u001b[1;32m    508\u001b[0m \u001b[0;34m\u001b[0m\u001b[0m\n\u001b[1;32m    509\u001b[0m     \u001b[0;32mdef\u001b[0m \u001b[0msetitem\u001b[0m\u001b[0;34m(\u001b[0m\u001b[0mself\u001b[0m\u001b[0;34m,\u001b[0m \u001b[0;34m**\u001b[0m\u001b[0mkwargs\u001b[0m\u001b[0;34m)\u001b[0m\u001b[0;34m:\u001b[0m\u001b[0;34m\u001b[0m\u001b[0;34m\u001b[0m\u001b[0m\n\u001b[0;32m--> 510\u001b[0;31m         \u001b[0;32mreturn\u001b[0m \u001b[0mself\u001b[0m\u001b[0;34m.\u001b[0m\u001b[0mapply\u001b[0m\u001b[0;34m(\u001b[0m\u001b[0;34m'setitem'\u001b[0m\u001b[0;34m,\u001b[0m \u001b[0;34m**\u001b[0m\u001b[0mkwargs\u001b[0m\u001b[0;34m)\u001b[0m\u001b[0;34m\u001b[0m\u001b[0;34m\u001b[0m\u001b[0m\n\u001b[0m\u001b[1;32m    511\u001b[0m \u001b[0;34m\u001b[0m\u001b[0m\n\u001b[1;32m    512\u001b[0m     \u001b[0;32mdef\u001b[0m \u001b[0mputmask\u001b[0m\u001b[0;34m(\u001b[0m\u001b[0mself\u001b[0m\u001b[0;34m,\u001b[0m \u001b[0;34m**\u001b[0m\u001b[0mkwargs\u001b[0m\u001b[0;34m)\u001b[0m\u001b[0;34m:\u001b[0m\u001b[0;34m\u001b[0m\u001b[0;34m\u001b[0m\u001b[0m\n",
      "\u001b[0;32m~/anaconda3/lib/python3.7/site-packages/pandas/core/internals/managers.py\u001b[0m in \u001b[0;36mapply\u001b[0;34m(self, f, axes, filter, do_integrity_check, consolidate, **kwargs)\u001b[0m\n\u001b[1;32m    393\u001b[0m                                             copy=align_copy)\n\u001b[1;32m    394\u001b[0m \u001b[0;34m\u001b[0m\u001b[0m\n\u001b[0;32m--> 395\u001b[0;31m             \u001b[0mapplied\u001b[0m \u001b[0;34m=\u001b[0m \u001b[0mgetattr\u001b[0m\u001b[0;34m(\u001b[0m\u001b[0mb\u001b[0m\u001b[0;34m,\u001b[0m \u001b[0mf\u001b[0m\u001b[0;34m)\u001b[0m\u001b[0;34m(\u001b[0m\u001b[0;34m**\u001b[0m\u001b[0mkwargs\u001b[0m\u001b[0;34m)\u001b[0m\u001b[0;34m\u001b[0m\u001b[0;34m\u001b[0m\u001b[0m\n\u001b[0m\u001b[1;32m    396\u001b[0m             \u001b[0mresult_blocks\u001b[0m \u001b[0;34m=\u001b[0m \u001b[0m_extend_blocks\u001b[0m\u001b[0;34m(\u001b[0m\u001b[0mapplied\u001b[0m\u001b[0;34m,\u001b[0m \u001b[0mresult_blocks\u001b[0m\u001b[0;34m)\u001b[0m\u001b[0;34m\u001b[0m\u001b[0;34m\u001b[0m\u001b[0m\n\u001b[1;32m    397\u001b[0m \u001b[0;34m\u001b[0m\u001b[0m\n",
      "\u001b[0;32m~/anaconda3/lib/python3.7/site-packages/pandas/core/internals/blocks.py\u001b[0m in \u001b[0;36msetitem\u001b[0;34m(self, indexer, value)\u001b[0m\n\u001b[1;32m    921\u001b[0m \u001b[0;34m\u001b[0m\u001b[0m\n\u001b[1;32m    922\u001b[0m         \u001b[0;31m# coerce and try to infer the dtypes of the result\u001b[0m\u001b[0;34m\u001b[0m\u001b[0;34m\u001b[0m\u001b[0;34m\u001b[0m\u001b[0m\n\u001b[0;32m--> 923\u001b[0;31m         \u001b[0mvalues\u001b[0m \u001b[0;34m=\u001b[0m \u001b[0mself\u001b[0m\u001b[0;34m.\u001b[0m\u001b[0m_try_coerce_and_cast_result\u001b[0m\u001b[0;34m(\u001b[0m\u001b[0mvalues\u001b[0m\u001b[0;34m,\u001b[0m \u001b[0mdtype\u001b[0m\u001b[0;34m)\u001b[0m\u001b[0;34m\u001b[0m\u001b[0;34m\u001b[0m\u001b[0m\n\u001b[0m\u001b[1;32m    924\u001b[0m         \u001b[0mblock\u001b[0m \u001b[0;34m=\u001b[0m \u001b[0mself\u001b[0m\u001b[0;34m.\u001b[0m\u001b[0mmake_block\u001b[0m\u001b[0;34m(\u001b[0m\u001b[0mtransf\u001b[0m\u001b[0;34m(\u001b[0m\u001b[0mvalues\u001b[0m\u001b[0;34m)\u001b[0m\u001b[0;34m)\u001b[0m\u001b[0;34m\u001b[0m\u001b[0;34m\u001b[0m\u001b[0m\n\u001b[1;32m    925\u001b[0m         \u001b[0;32mreturn\u001b[0m \u001b[0mblock\u001b[0m\u001b[0;34m\u001b[0m\u001b[0;34m\u001b[0m\u001b[0m\n",
      "\u001b[0;32m~/anaconda3/lib/python3.7/site-packages/pandas/core/internals/blocks.py\u001b[0m in \u001b[0;36m_try_coerce_and_cast_result\u001b[0;34m(self, result, dtype)\u001b[0m\n\u001b[1;32m    725\u001b[0m     \u001b[0;32mdef\u001b[0m \u001b[0m_try_coerce_and_cast_result\u001b[0m\u001b[0;34m(\u001b[0m\u001b[0mself\u001b[0m\u001b[0;34m,\u001b[0m \u001b[0mresult\u001b[0m\u001b[0;34m,\u001b[0m \u001b[0mdtype\u001b[0m\u001b[0;34m=\u001b[0m\u001b[0;32mNone\u001b[0m\u001b[0;34m)\u001b[0m\u001b[0;34m:\u001b[0m\u001b[0;34m\u001b[0m\u001b[0;34m\u001b[0m\u001b[0m\n\u001b[1;32m    726\u001b[0m         \u001b[0mresult\u001b[0m \u001b[0;34m=\u001b[0m \u001b[0mself\u001b[0m\u001b[0;34m.\u001b[0m\u001b[0m_try_coerce_result\u001b[0m\u001b[0;34m(\u001b[0m\u001b[0mresult\u001b[0m\u001b[0;34m)\u001b[0m\u001b[0;34m\u001b[0m\u001b[0;34m\u001b[0m\u001b[0m\n\u001b[0;32m--> 727\u001b[0;31m         \u001b[0mresult\u001b[0m \u001b[0;34m=\u001b[0m \u001b[0mself\u001b[0m\u001b[0;34m.\u001b[0m\u001b[0m_try_cast_result\u001b[0m\u001b[0;34m(\u001b[0m\u001b[0mresult\u001b[0m\u001b[0;34m,\u001b[0m \u001b[0mdtype\u001b[0m\u001b[0;34m=\u001b[0m\u001b[0mdtype\u001b[0m\u001b[0;34m)\u001b[0m\u001b[0;34m\u001b[0m\u001b[0;34m\u001b[0m\u001b[0m\n\u001b[0m\u001b[1;32m    728\u001b[0m         \u001b[0;32mreturn\u001b[0m \u001b[0mresult\u001b[0m\u001b[0;34m\u001b[0m\u001b[0;34m\u001b[0m\u001b[0m\n\u001b[1;32m    729\u001b[0m \u001b[0;34m\u001b[0m\u001b[0m\n",
      "\u001b[0;32m~/anaconda3/lib/python3.7/site-packages/pandas/core/internals/blocks.py\u001b[0m in \u001b[0;36m_try_cast_result\u001b[0;34m(self, result, dtype)\u001b[0m\n\u001b[1;32m    705\u001b[0m \u001b[0;34m\u001b[0m\u001b[0m\n\u001b[1;32m    706\u001b[0m         \u001b[0;31m# may need to change the dtype here\u001b[0m\u001b[0;34m\u001b[0m\u001b[0;34m\u001b[0m\u001b[0;34m\u001b[0m\u001b[0m\n\u001b[0;32m--> 707\u001b[0;31m         \u001b[0;32mreturn\u001b[0m \u001b[0mmaybe_downcast_to_dtype\u001b[0m\u001b[0;34m(\u001b[0m\u001b[0mresult\u001b[0m\u001b[0;34m,\u001b[0m \u001b[0mdtype\u001b[0m\u001b[0;34m)\u001b[0m\u001b[0;34m\u001b[0m\u001b[0;34m\u001b[0m\u001b[0m\n\u001b[0m\u001b[1;32m    708\u001b[0m \u001b[0;34m\u001b[0m\u001b[0m\n\u001b[1;32m    709\u001b[0m     \u001b[0;32mdef\u001b[0m \u001b[0m_try_coerce_args\u001b[0m\u001b[0;34m(\u001b[0m\u001b[0mself\u001b[0m\u001b[0;34m,\u001b[0m \u001b[0mvalues\u001b[0m\u001b[0;34m,\u001b[0m \u001b[0mother\u001b[0m\u001b[0;34m)\u001b[0m\u001b[0;34m:\u001b[0m\u001b[0;34m\u001b[0m\u001b[0;34m\u001b[0m\u001b[0m\n",
      "\u001b[0;32m~/anaconda3/lib/python3.7/site-packages/pandas/core/dtypes/cast.py\u001b[0m in \u001b[0;36mmaybe_downcast_to_dtype\u001b[0;34m(result, dtype)\u001b[0m\n\u001b[1;32m     76\u001b[0m     \u001b[0;32mif\u001b[0m \u001b[0misinstance\u001b[0m\u001b[0;34m(\u001b[0m\u001b[0mdtype\u001b[0m\u001b[0;34m,\u001b[0m \u001b[0mstring_types\u001b[0m\u001b[0;34m)\u001b[0m\u001b[0;34m:\u001b[0m\u001b[0;34m\u001b[0m\u001b[0;34m\u001b[0m\u001b[0m\n\u001b[1;32m     77\u001b[0m         \u001b[0;32mif\u001b[0m \u001b[0mdtype\u001b[0m \u001b[0;34m==\u001b[0m \u001b[0;34m'infer'\u001b[0m\u001b[0;34m:\u001b[0m\u001b[0;34m\u001b[0m\u001b[0;34m\u001b[0m\u001b[0m\n\u001b[0;32m---> 78\u001b[0;31m             inferred_type = lib.infer_dtype(ensure_object(result.ravel()),\n\u001b[0m\u001b[1;32m     79\u001b[0m                                             skipna=False)\n\u001b[1;32m     80\u001b[0m             \u001b[0;32mif\u001b[0m \u001b[0minferred_type\u001b[0m \u001b[0;34m==\u001b[0m \u001b[0;34m'boolean'\u001b[0m\u001b[0;34m:\u001b[0m\u001b[0;34m\u001b[0m\u001b[0;34m\u001b[0m\u001b[0m\n",
      "\u001b[0;31mKeyboardInterrupt\u001b[0m: "
     ]
    }
   ],
   "source": [
    "#If a person has taken more than 25s to answer a question, that response is not reliable and so we will not consider it\n",
    "for i in range(0,124):\n",
    "    for j in range(0, 39775):\n",
    "        if(data.iloc[j, i+2] > 25000):\n",
    "            data.iloc[j, i] = 0\n",
    "        j = j+1\n",
    "    i = i+3\n",
    "\n"
   ]
  },
  {
   "cell_type": "code",
   "execution_count": 47,
   "metadata": {
    "scrolled": false
   },
   "outputs": [
    {
     "name": "stdout",
     "output_type": "stream",
     "text": [
      "0        3\n",
      "1        3\n",
      "2        2\n",
      "3        1\n",
      "4        1\n",
      "5        0\n",
      "6        0\n",
      "7        0\n",
      "8        3\n",
      "9        2\n",
      "10       2\n",
      "11       2\n",
      "12       0\n",
      "13       0\n",
      "14       0\n",
      "15       2\n",
      "16       2\n",
      "17       2\n",
      "18       2\n",
      "19       1\n",
      "20       2\n",
      "21       2\n",
      "22       2\n",
      "23       2\n",
      "24       1\n",
      "25       3\n",
      "26       3\n",
      "27       1\n",
      "28       3\n",
      "29       0\n",
      "        ..\n",
      "39745    3\n",
      "39746    2\n",
      "39747    1\n",
      "39748    3\n",
      "39749    3\n",
      "39750    2\n",
      "39751    2\n",
      "39752    3\n",
      "39753    2\n",
      "39754    1\n",
      "39755    3\n",
      "39756    3\n",
      "39757    3\n",
      "39758    3\n",
      "39759    1\n",
      "39760    1\n",
      "39761    1\n",
      "39762    0\n",
      "39763    1\n",
      "39764    1\n",
      "39765    3\n",
      "39766    1\n",
      "39767    3\n",
      "39768    1\n",
      "39769    2\n",
      "39770    1\n",
      "39771    2\n",
      "39772    1\n",
      "39773    2\n",
      "39774    1\n",
      "Name: Q1A, Length: 39775, dtype: int64\n"
     ]
    }
   ],
   "source": [
    "print(data[\"Q1A\"])"
   ]
  },
  {
   "cell_type": "code",
   "execution_count": 48,
   "metadata": {
    "scrolled": true
   },
   "outputs": [
    {
     "name": "stdout",
     "output_type": "stream",
     "text": [
      "0        Extremely A\n",
      "1           Severe A\n",
      "2         Moderate A\n",
      "3           Severe A\n",
      "4        Extremely A\n",
      "5           Normal A\n",
      "6           Severe A\n",
      "7           Normal A\n",
      "8        Extremely A\n",
      "9        Extremely A\n",
      "10          Normal A\n",
      "11       Extremely A\n",
      "12        Moderate A\n",
      "13          Severe A\n",
      "14          Normal A\n",
      "15          Normal A\n",
      "16          Severe A\n",
      "17          Normal A\n",
      "18          Normal A\n",
      "19            Mild A\n",
      "20          Normal A\n",
      "21          Normal A\n",
      "22       Extremely A\n",
      "23        Moderate A\n",
      "24        Moderate A\n",
      "25       Extremely A\n",
      "26       Extremely A\n",
      "27       Extremely A\n",
      "28       Extremely A\n",
      "29          Normal A\n",
      "            ...     \n",
      "39745    Extremely A\n",
      "39746    Extremely A\n",
      "39747       Normal A\n",
      "39748       Severe A\n",
      "39749    Extremely A\n",
      "39750    Extremely A\n",
      "39751    Extremely A\n",
      "39752    Extremely A\n",
      "39753     Moderate A\n",
      "39754       Normal A\n",
      "39755       Severe A\n",
      "39756       Severe A\n",
      "39757       Normal A\n",
      "39758    Extremely A\n",
      "39759     Moderate A\n",
      "39760       Normal A\n",
      "39761       Normal A\n",
      "39762     Moderate A\n",
      "39763       Severe A\n",
      "39764       Normal A\n",
      "39765    Extremely A\n",
      "39766       Severe A\n",
      "39767    Extremely A\n",
      "39768       Normal A\n",
      "39769    Extremely A\n",
      "39770     Moderate A\n",
      "39771    Extremely A\n",
      "39772       Normal A\n",
      "39773     Moderate A\n",
      "39774     Moderate A\n",
      "Name: Anxiety, Length: 39775, dtype: object\n"
     ]
    }
   ],
   "source": [
    "#creating outcome columns for Stress, Anxiety and Depression\n",
    "#stress_scale = []\n",
    "#def Stress_scale(stress):\n",
    "#    if stress <=14:\n",
    "#        stress_scale.append(\"Normal S\")\n",
    "#    elif stress >14 and stress <=18:\n",
    "#        stress_scale.append(\"Mild S\")\n",
    "#    elif stress >18 and stress <= 25:\n",
    "#        stress_scale.append(\"Moderate S\")\n",
    "#    elif stress > 25 and stress <= 33:\n",
    "#        stress_scale.append(\"Severe S\")\n",
    "#    else:\n",
    "#        stress_scale.append(\"Extremely S\")\n",
    "#    return stress_scale\n",
    "      \n",
    "        \n",
    "stress = data[\"Q1A\"] + data[\"Q6A\"] + data[\"Q8A\"] + data[\"Q11A\"] + data[\"Q12A\"] + data[\"Q14A\"] + data[\"Q18A\"] + data[\"Q22A\"] +data[\"Q27A\"] + data[\"Q29A\"] + data[\"Q32A\"] + data[\"Q33A\"] + data[\"Q35A\"] + data[\"Q39A\"]\n",
    "#print(stress)\n",
    "data[\"Stress\"] = stress \n",
    "data[\"Stress_R\"] = stress #column to be used for regression approach\n",
    "data[\"Stress\"] = data[\"Stress\"].apply(lambda stress: 'Normal S' if stress <=14 else ('Mild S' if stress >14 and stress <=18 else ('Moderate S' if stress >18 and stress <= 25 else('Severe S' if stress > 25 and stress <= 33 else 'Extremely S')))) #column used for classification approach\n",
    "#data[\"Stress_scale\"] = data[\"Stress\"].apply(Stress_scale)\n",
    "#data[\"Stress_scale\"] = Stress_scale(data[[\"Stress\"]])\n",
    "\n",
    "anxiety = data[\"Q2A\"] + data[\"Q4A\"] + data[\"Q7A\"] + data[\"Q9A\"] + data[\"Q15A\"] + data[\"Q19A\"] + data[\"Q20A\"] + data[\"Q23A\"] +data[\"Q25A\"] + data[\"Q28A\"] + data[\"Q30A\"] + data[\"Q36A\"] + data[\"Q40A\"] + data[\"Q41A\"]\n",
    "data[\"Anxiety\"] = anxiety\n",
    "data[\"Anxiety_R\"] = anxiety\n",
    "data[\"Anxiety\"] = data[\"Anxiety\"].apply(lambda anxiety: 'Normal A' if anxiety <=7 else ('Mild A' if anxiety >7 and anxiety <=9 else ('Moderate A' if anxiety >9 and anxiety <= 14 else('Severe A' if anxiety > 14 and anxiety <= 19 else 'Extremely A'))))\n",
    "\n",
    "\n",
    "depression = data[\"Q3A\"] + data[\"Q5A\"] + data[\"Q10A\"] + data[\"Q13A\"] + data[\"Q16A\"] + data[\"Q17A\"] + data[\"Q21A\"] + data[\"Q24A\"] + data[\"Q26A\"] + data[\"Q31A\"] + data[\"Q34A\"] + data[\"Q37A\"] + data[\"Q38A\"] + data[\"Q42A\"] \n",
    "data[\"Depression\"] = depression\n",
    "data[\"Depression_R\"] = depression\n",
    "data[\"Depression\"] = data[\"Depression\"].apply(lambda depression: 'Normal D' if depression <=9 else ('Mild D' if depression >9 and depression <=13 else ('Moderate D' if depression >9 and depression <= 14 else('Severe D' if depression > 14 and depression <= 19 else 'Extremely D'))))\n",
    "print(data[\"Anxiety\"])\n",
    "#anxiety = data"
   ]
  },
  {
   "cell_type": "code",
   "execution_count": 49,
   "metadata": {},
   "outputs": [
    {
     "data": {
      "text/plain": [
       "<matplotlib.collections.PathCollection at 0x7f9a48f83f98>"
      ]
     },
     "execution_count": 49,
     "metadata": {},
     "output_type": "execute_result"
    },
    {
     "data": {
      "image/png": "[encoded data removed]",
      "text/plain": [
       "<Figure size 432x288 with 1 Axes>"
      ]
     },
     "metadata": {
      "needs_background": "light"
     },
     "output_type": "display_data"
    }
   ],
   "source": [
    "import matplotlib.pyplot as plt\n",
    "\n",
    "#plt.scatter(data['Stress_R'], data['age'])\n",
    "#plt.plot(data['Depression_R'])\n",
    "#plt.plot(data['Anxiety_R'])\n"
   ]
  },
  {
   "cell_type": "code",
   "execution_count": 50,
   "metadata": {
    "scrolled": true
   },
   "outputs": [
    {
     "data": {
      "text/html": [
       "<div>\n",
       "<style scoped>\n",
       "    .dataframe tbody tr th:only-of-type {\n",
       "        vertical-align: middle;\n",
       "    }\n",
       "\n",
       "    .dataframe tbody tr th {\n",
       "        vertical-align: top;\n",
       "    }\n",
       "\n",
       "    .dataframe thead th {\n",
       "        text-align: right;\n",
       "    }\n",
       "</style>\n",
       "<table border=\"1\" class=\"dataframe\">\n",
       "  <thead>\n",
       "    <tr style=\"text-align: right;\">\n",
       "      <th></th>\n",
       "      <th>Q1A</th>\n",
       "      <th>Q1I</th>\n",
       "      <th>Q1E</th>\n",
       "      <th>Q2A</th>\n",
       "      <th>Q2I</th>\n",
       "      <th>Q2E</th>\n",
       "      <th>Q3A</th>\n",
       "      <th>Q3I</th>\n",
       "      <th>Q3E</th>\n",
       "      <th>Q4A</th>\n",
       "      <th>...</th>\n",
       "      <th>race</th>\n",
       "      <th>voted</th>\n",
       "      <th>married</th>\n",
       "      <th>familysize</th>\n",
       "      <th>Stress</th>\n",
       "      <th>Stress_R</th>\n",
       "      <th>Anxiety</th>\n",
       "      <th>Anxiety_R</th>\n",
       "      <th>Depression</th>\n",
       "      <th>Depression_R</th>\n",
       "    </tr>\n",
       "  </thead>\n",
       "  <tbody>\n",
       "    <tr>\n",
       "      <th>0</th>\n",
       "      <td>3</td>\n",
       "      <td>28</td>\n",
       "      <td>3890</td>\n",
       "      <td>3</td>\n",
       "      <td>25</td>\n",
       "      <td>2122</td>\n",
       "      <td>1</td>\n",
       "      <td>16</td>\n",
       "      <td>1944</td>\n",
       "      <td>3</td>\n",
       "      <td>...</td>\n",
       "      <td>10</td>\n",
       "      <td>2</td>\n",
       "      <td>1</td>\n",
       "      <td>2</td>\n",
       "      <td>Extremely S</td>\n",
       "      <td>40</td>\n",
       "      <td>Extremely A</td>\n",
       "      <td>34</td>\n",
       "      <td>Extremely D</td>\n",
       "      <td>27</td>\n",
       "    </tr>\n",
       "    <tr>\n",
       "      <th>1</th>\n",
       "      <td>3</td>\n",
       "      <td>1</td>\n",
       "      <td>8118</td>\n",
       "      <td>0</td>\n",
       "      <td>36</td>\n",
       "      <td>2890</td>\n",
       "      <td>1</td>\n",
       "      <td>35</td>\n",
       "      <td>4777</td>\n",
       "      <td>2</td>\n",
       "      <td>...</td>\n",
       "      <td>70</td>\n",
       "      <td>2</td>\n",
       "      <td>1</td>\n",
       "      <td>4</td>\n",
       "      <td>Severe S</td>\n",
       "      <td>27</td>\n",
       "      <td>Severe A</td>\n",
       "      <td>17</td>\n",
       "      <td>Extremely D</td>\n",
       "      <td>24</td>\n",
       "    </tr>\n",
       "    <tr>\n",
       "      <th>2</th>\n",
       "      <td>2</td>\n",
       "      <td>7</td>\n",
       "      <td>5784</td>\n",
       "      <td>0</td>\n",
       "      <td>33</td>\n",
       "      <td>4373</td>\n",
       "      <td>3</td>\n",
       "      <td>41</td>\n",
       "      <td>3242</td>\n",
       "      <td>0</td>\n",
       "      <td>...</td>\n",
       "      <td>60</td>\n",
       "      <td>1</td>\n",
       "      <td>1</td>\n",
       "      <td>3</td>\n",
       "      <td>Mild S</td>\n",
       "      <td>17</td>\n",
       "      <td>Moderate A</td>\n",
       "      <td>12</td>\n",
       "      <td>Extremely D</td>\n",
       "      <td>39</td>\n",
       "    </tr>\n",
       "    <tr>\n",
       "      <th>3</th>\n",
       "      <td>1</td>\n",
       "      <td>23</td>\n",
       "      <td>5081</td>\n",
       "      <td>2</td>\n",
       "      <td>11</td>\n",
       "      <td>6837</td>\n",
       "      <td>1</td>\n",
       "      <td>37</td>\n",
       "      <td>5521</td>\n",
       "      <td>0</td>\n",
       "      <td>...</td>\n",
       "      <td>70</td>\n",
       "      <td>2</td>\n",
       "      <td>1</td>\n",
       "      <td>5</td>\n",
       "      <td>Mild S</td>\n",
       "      <td>16</td>\n",
       "      <td>Severe A</td>\n",
       "      <td>17</td>\n",
       "      <td>Severe D</td>\n",
       "      <td>16</td>\n",
       "    </tr>\n",
       "    <tr>\n",
       "      <th>4</th>\n",
       "      <td>1</td>\n",
       "      <td>36</td>\n",
       "      <td>3215</td>\n",
       "      <td>1</td>\n",
       "      <td>13</td>\n",
       "      <td>7731</td>\n",
       "      <td>2</td>\n",
       "      <td>5</td>\n",
       "      <td>4156</td>\n",
       "      <td>3</td>\n",
       "      <td>...</td>\n",
       "      <td>10</td>\n",
       "      <td>2</td>\n",
       "      <td>1</td>\n",
       "      <td>4</td>\n",
       "      <td>Severe S</td>\n",
       "      <td>29</td>\n",
       "      <td>Extremely A</td>\n",
       "      <td>40</td>\n",
       "      <td>Extremely D</td>\n",
       "      <td>32</td>\n",
       "    </tr>\n",
       "    <tr>\n",
       "      <th>6</th>\n",
       "      <td>0</td>\n",
       "      <td>20</td>\n",
       "      <td>4325</td>\n",
       "      <td>0</td>\n",
       "      <td>34</td>\n",
       "      <td>4009</td>\n",
       "      <td>1</td>\n",
       "      <td>38</td>\n",
       "      <td>3604</td>\n",
       "      <td>2</td>\n",
       "      <td>...</td>\n",
       "      <td>60</td>\n",
       "      <td>2</td>\n",
       "      <td>1</td>\n",
       "      <td>4</td>\n",
       "      <td>Normal S</td>\n",
       "      <td>14</td>\n",
       "      <td>Severe A</td>\n",
       "      <td>19</td>\n",
       "      <td>Extremely D</td>\n",
       "      <td>31</td>\n",
       "    </tr>\n",
       "    <tr>\n",
       "      <th>8</th>\n",
       "      <td>3</td>\n",
       "      <td>3</td>\n",
       "      <td>3470</td>\n",
       "      <td>3</td>\n",
       "      <td>14</td>\n",
       "      <td>2139</td>\n",
       "      <td>2</td>\n",
       "      <td>0</td>\n",
       "      <td>11043</td>\n",
       "      <td>3</td>\n",
       "      <td>...</td>\n",
       "      <td>70</td>\n",
       "      <td>2</td>\n",
       "      <td>1</td>\n",
       "      <td>4</td>\n",
       "      <td>Severe S</td>\n",
       "      <td>33</td>\n",
       "      <td>Extremely A</td>\n",
       "      <td>39</td>\n",
       "      <td>Extremely D</td>\n",
       "      <td>35</td>\n",
       "    </tr>\n",
       "    <tr>\n",
       "      <th>9</th>\n",
       "      <td>2</td>\n",
       "      <td>38</td>\n",
       "      <td>5187</td>\n",
       "      <td>1</td>\n",
       "      <td>28</td>\n",
       "      <td>2600</td>\n",
       "      <td>3</td>\n",
       "      <td>9</td>\n",
       "      <td>2015</td>\n",
       "      <td>0</td>\n",
       "      <td>...</td>\n",
       "      <td>60</td>\n",
       "      <td>2</td>\n",
       "      <td>1</td>\n",
       "      <td>3</td>\n",
       "      <td>Extremely S</td>\n",
       "      <td>34</td>\n",
       "      <td>Extremely A</td>\n",
       "      <td>28</td>\n",
       "      <td>Extremely D</td>\n",
       "      <td>42</td>\n",
       "    </tr>\n",
       "    <tr>\n",
       "      <th>10</th>\n",
       "      <td>2</td>\n",
       "      <td>38</td>\n",
       "      <td>3352</td>\n",
       "      <td>0</td>\n",
       "      <td>16</td>\n",
       "      <td>4322</td>\n",
       "      <td>1</td>\n",
       "      <td>28</td>\n",
       "      <td>3083</td>\n",
       "      <td>0</td>\n",
       "      <td>...</td>\n",
       "      <td>60</td>\n",
       "      <td>2</td>\n",
       "      <td>1</td>\n",
       "      <td>1</td>\n",
       "      <td>Moderate S</td>\n",
       "      <td>24</td>\n",
       "      <td>Normal A</td>\n",
       "      <td>2</td>\n",
       "      <td>Moderate D</td>\n",
       "      <td>14</td>\n",
       "    </tr>\n",
       "    <tr>\n",
       "      <th>11</th>\n",
       "      <td>2</td>\n",
       "      <td>37</td>\n",
       "      <td>4024</td>\n",
       "      <td>2</td>\n",
       "      <td>35</td>\n",
       "      <td>2116</td>\n",
       "      <td>1</td>\n",
       "      <td>18</td>\n",
       "      <td>3408</td>\n",
       "      <td>1</td>\n",
       "      <td>...</td>\n",
       "      <td>60</td>\n",
       "      <td>2</td>\n",
       "      <td>1</td>\n",
       "      <td>2</td>\n",
       "      <td>Severe S</td>\n",
       "      <td>27</td>\n",
       "      <td>Extremely A</td>\n",
       "      <td>20</td>\n",
       "      <td>Severe D</td>\n",
       "      <td>19</td>\n",
       "    </tr>\n",
       "    <tr>\n",
       "      <th>15</th>\n",
       "      <td>2</td>\n",
       "      <td>17</td>\n",
       "      <td>2316</td>\n",
       "      <td>0</td>\n",
       "      <td>18</td>\n",
       "      <td>2450</td>\n",
       "      <td>1</td>\n",
       "      <td>11</td>\n",
       "      <td>3143</td>\n",
       "      <td>1</td>\n",
       "      <td>...</td>\n",
       "      <td>60</td>\n",
       "      <td>2</td>\n",
       "      <td>1</td>\n",
       "      <td>1</td>\n",
       "      <td>Mild S</td>\n",
       "      <td>15</td>\n",
       "      <td>Normal A</td>\n",
       "      <td>5</td>\n",
       "      <td>Severe D</td>\n",
       "      <td>16</td>\n",
       "    </tr>\n",
       "    <tr>\n",
       "      <th>16</th>\n",
       "      <td>2</td>\n",
       "      <td>15</td>\n",
       "      <td>2789</td>\n",
       "      <td>0</td>\n",
       "      <td>2</td>\n",
       "      <td>4500</td>\n",
       "      <td>1</td>\n",
       "      <td>25</td>\n",
       "      <td>3900</td>\n",
       "      <td>1</td>\n",
       "      <td>...</td>\n",
       "      <td>60</td>\n",
       "      <td>2</td>\n",
       "      <td>1</td>\n",
       "      <td>2</td>\n",
       "      <td>Severe S</td>\n",
       "      <td>29</td>\n",
       "      <td>Severe A</td>\n",
       "      <td>15</td>\n",
       "      <td>Mild D</td>\n",
       "      <td>11</td>\n",
       "    </tr>\n",
       "    <tr>\n",
       "      <th>17</th>\n",
       "      <td>2</td>\n",
       "      <td>17</td>\n",
       "      <td>2507</td>\n",
       "      <td>0</td>\n",
       "      <td>27</td>\n",
       "      <td>1334</td>\n",
       "      <td>1</td>\n",
       "      <td>38</td>\n",
       "      <td>1864</td>\n",
       "      <td>0</td>\n",
       "      <td>...</td>\n",
       "      <td>60</td>\n",
       "      <td>2</td>\n",
       "      <td>1</td>\n",
       "      <td>5</td>\n",
       "      <td>Normal S</td>\n",
       "      <td>12</td>\n",
       "      <td>Normal A</td>\n",
       "      <td>3</td>\n",
       "      <td>Moderate D</td>\n",
       "      <td>14</td>\n",
       "    </tr>\n",
       "    <tr>\n",
       "      <th>18</th>\n",
       "      <td>2</td>\n",
       "      <td>5</td>\n",
       "      <td>6729</td>\n",
       "      <td>1</td>\n",
       "      <td>3</td>\n",
       "      <td>4793</td>\n",
       "      <td>1</td>\n",
       "      <td>20</td>\n",
       "      <td>3328</td>\n",
       "      <td>0</td>\n",
       "      <td>...</td>\n",
       "      <td>60</td>\n",
       "      <td>2</td>\n",
       "      <td>1</td>\n",
       "      <td>1</td>\n",
       "      <td>Normal S</td>\n",
       "      <td>14</td>\n",
       "      <td>Normal A</td>\n",
       "      <td>2</td>\n",
       "      <td>Moderate D</td>\n",
       "      <td>14</td>\n",
       "    </tr>\n",
       "    <tr>\n",
       "      <th>19</th>\n",
       "      <td>1</td>\n",
       "      <td>8</td>\n",
       "      <td>4144</td>\n",
       "      <td>1</td>\n",
       "      <td>27</td>\n",
       "      <td>4442</td>\n",
       "      <td>1</td>\n",
       "      <td>37</td>\n",
       "      <td>7254</td>\n",
       "      <td>0</td>\n",
       "      <td>...</td>\n",
       "      <td>50</td>\n",
       "      <td>2</td>\n",
       "      <td>1</td>\n",
       "      <td>2</td>\n",
       "      <td>Normal S</td>\n",
       "      <td>14</td>\n",
       "      <td>Mild A</td>\n",
       "      <td>8</td>\n",
       "      <td>Extremely D</td>\n",
       "      <td>23</td>\n",
       "    </tr>\n",
       "    <tr>\n",
       "      <th>20</th>\n",
       "      <td>2</td>\n",
       "      <td>0</td>\n",
       "      <td>9774</td>\n",
       "      <td>0</td>\n",
       "      <td>38</td>\n",
       "      <td>2011</td>\n",
       "      <td>1</td>\n",
       "      <td>28</td>\n",
       "      <td>2618</td>\n",
       "      <td>0</td>\n",
       "      <td>...</td>\n",
       "      <td>60</td>\n",
       "      <td>2</td>\n",
       "      <td>1</td>\n",
       "      <td>5</td>\n",
       "      <td>Mild S</td>\n",
       "      <td>17</td>\n",
       "      <td>Normal A</td>\n",
       "      <td>3</td>\n",
       "      <td>Mild D</td>\n",
       "      <td>10</td>\n",
       "    </tr>\n",
       "    <tr>\n",
       "      <th>21</th>\n",
       "      <td>2</td>\n",
       "      <td>41</td>\n",
       "      <td>50135</td>\n",
       "      <td>0</td>\n",
       "      <td>11</td>\n",
       "      <td>2033</td>\n",
       "      <td>1</td>\n",
       "      <td>38</td>\n",
       "      <td>3882</td>\n",
       "      <td>0</td>\n",
       "      <td>...</td>\n",
       "      <td>60</td>\n",
       "      <td>2</td>\n",
       "      <td>1</td>\n",
       "      <td>1</td>\n",
       "      <td>Severe S</td>\n",
       "      <td>27</td>\n",
       "      <td>Normal A</td>\n",
       "      <td>3</td>\n",
       "      <td>Extremely D</td>\n",
       "      <td>21</td>\n",
       "    </tr>\n",
       "    <tr>\n",
       "      <th>23</th>\n",
       "      <td>2</td>\n",
       "      <td>14</td>\n",
       "      <td>6074</td>\n",
       "      <td>1</td>\n",
       "      <td>6</td>\n",
       "      <td>5943</td>\n",
       "      <td>1</td>\n",
       "      <td>31</td>\n",
       "      <td>4097</td>\n",
       "      <td>1</td>\n",
       "      <td>...</td>\n",
       "      <td>70</td>\n",
       "      <td>2</td>\n",
       "      <td>1</td>\n",
       "      <td>3</td>\n",
       "      <td>Moderate S</td>\n",
       "      <td>24</td>\n",
       "      <td>Moderate A</td>\n",
       "      <td>13</td>\n",
       "      <td>Severe D</td>\n",
       "      <td>18</td>\n",
       "    </tr>\n",
       "    <tr>\n",
       "      <th>25</th>\n",
       "      <td>3</td>\n",
       "      <td>23</td>\n",
       "      <td>2453</td>\n",
       "      <td>0</td>\n",
       "      <td>6</td>\n",
       "      <td>7105</td>\n",
       "      <td>3</td>\n",
       "      <td>21</td>\n",
       "      <td>1923</td>\n",
       "      <td>1</td>\n",
       "      <td>...</td>\n",
       "      <td>10</td>\n",
       "      <td>2</td>\n",
       "      <td>1</td>\n",
       "      <td>2</td>\n",
       "      <td>Severe S</td>\n",
       "      <td>32</td>\n",
       "      <td>Extremely A</td>\n",
       "      <td>25</td>\n",
       "      <td>Extremely D</td>\n",
       "      <td>42</td>\n",
       "    </tr>\n",
       "    <tr>\n",
       "      <th>26</th>\n",
       "      <td>3</td>\n",
       "      <td>0</td>\n",
       "      <td>4820</td>\n",
       "      <td>3</td>\n",
       "      <td>39</td>\n",
       "      <td>1109</td>\n",
       "      <td>3</td>\n",
       "      <td>8</td>\n",
       "      <td>1833</td>\n",
       "      <td>3</td>\n",
       "      <td>...</td>\n",
       "      <td>60</td>\n",
       "      <td>2</td>\n",
       "      <td>1</td>\n",
       "      <td>3</td>\n",
       "      <td>Extremely S</td>\n",
       "      <td>41</td>\n",
       "      <td>Extremely A</td>\n",
       "      <td>41</td>\n",
       "      <td>Extremely D</td>\n",
       "      <td>38</td>\n",
       "    </tr>\n",
       "    <tr>\n",
       "      <th>27</th>\n",
       "      <td>1</td>\n",
       "      <td>28</td>\n",
       "      <td>2984</td>\n",
       "      <td>1</td>\n",
       "      <td>35</td>\n",
       "      <td>3838</td>\n",
       "      <td>0</td>\n",
       "      <td>11</td>\n",
       "      <td>3116</td>\n",
       "      <td>1</td>\n",
       "      <td>...</td>\n",
       "      <td>60</td>\n",
       "      <td>2</td>\n",
       "      <td>1</td>\n",
       "      <td>1</td>\n",
       "      <td>Moderate S</td>\n",
       "      <td>19</td>\n",
       "      <td>Extremely A</td>\n",
       "      <td>22</td>\n",
       "      <td>Mild D</td>\n",
       "      <td>10</td>\n",
       "    </tr>\n",
       "    <tr>\n",
       "      <th>28</th>\n",
       "      <td>3</td>\n",
       "      <td>12</td>\n",
       "      <td>2431</td>\n",
       "      <td>2</td>\n",
       "      <td>2</td>\n",
       "      <td>9289</td>\n",
       "      <td>3</td>\n",
       "      <td>15</td>\n",
       "      <td>3330</td>\n",
       "      <td>3</td>\n",
       "      <td>...</td>\n",
       "      <td>70</td>\n",
       "      <td>2</td>\n",
       "      <td>1</td>\n",
       "      <td>2</td>\n",
       "      <td>Extremely S</td>\n",
       "      <td>36</td>\n",
       "      <td>Extremely A</td>\n",
       "      <td>40</td>\n",
       "      <td>Extremely D</td>\n",
       "      <td>42</td>\n",
       "    </tr>\n",
       "    <tr>\n",
       "      <th>29</th>\n",
       "      <td>0</td>\n",
       "      <td>9</td>\n",
       "      <td>2236</td>\n",
       "      <td>0</td>\n",
       "      <td>10</td>\n",
       "      <td>1437</td>\n",
       "      <td>1</td>\n",
       "      <td>7</td>\n",
       "      <td>2570</td>\n",
       "      <td>0</td>\n",
       "      <td>...</td>\n",
       "      <td>70</td>\n",
       "      <td>2</td>\n",
       "      <td>1</td>\n",
       "      <td>3</td>\n",
       "      <td>Normal S</td>\n",
       "      <td>1</td>\n",
       "      <td>Normal A</td>\n",
       "      <td>1</td>\n",
       "      <td>Normal D</td>\n",
       "      <td>9</td>\n",
       "    </tr>\n",
       "    <tr>\n",
       "      <th>30</th>\n",
       "      <td>1</td>\n",
       "      <td>35</td>\n",
       "      <td>1531</td>\n",
       "      <td>1</td>\n",
       "      <td>22</td>\n",
       "      <td>2909</td>\n",
       "      <td>2</td>\n",
       "      <td>31</td>\n",
       "      <td>3694</td>\n",
       "      <td>0</td>\n",
       "      <td>...</td>\n",
       "      <td>70</td>\n",
       "      <td>2</td>\n",
       "      <td>1</td>\n",
       "      <td>2</td>\n",
       "      <td>Moderate S</td>\n",
       "      <td>23</td>\n",
       "      <td>Moderate A</td>\n",
       "      <td>14</td>\n",
       "      <td>Extremely D</td>\n",
       "      <td>24</td>\n",
       "    </tr>\n",
       "    <tr>\n",
       "      <th>31</th>\n",
       "      <td>1</td>\n",
       "      <td>25</td>\n",
       "      <td>3671</td>\n",
       "      <td>1</td>\n",
       "      <td>26</td>\n",
       "      <td>5743</td>\n",
       "      <td>1</td>\n",
       "      <td>13</td>\n",
       "      <td>3154</td>\n",
       "      <td>0</td>\n",
       "      <td>...</td>\n",
       "      <td>60</td>\n",
       "      <td>2</td>\n",
       "      <td>1</td>\n",
       "      <td>3</td>\n",
       "      <td>Normal S</td>\n",
       "      <td>7</td>\n",
       "      <td>Mild A</td>\n",
       "      <td>8</td>\n",
       "      <td>Extremely D</td>\n",
       "      <td>30</td>\n",
       "    </tr>\n",
       "    <tr>\n",
       "      <th>33</th>\n",
       "      <td>1</td>\n",
       "      <td>41</td>\n",
       "      <td>4705</td>\n",
       "      <td>0</td>\n",
       "      <td>42</td>\n",
       "      <td>2187</td>\n",
       "      <td>1</td>\n",
       "      <td>11</td>\n",
       "      <td>3007</td>\n",
       "      <td>0</td>\n",
       "      <td>...</td>\n",
       "      <td>60</td>\n",
       "      <td>2</td>\n",
       "      <td>1</td>\n",
       "      <td>2</td>\n",
       "      <td>Moderate S</td>\n",
       "      <td>22</td>\n",
       "      <td>Mild A</td>\n",
       "      <td>8</td>\n",
       "      <td>Mild D</td>\n",
       "      <td>10</td>\n",
       "    </tr>\n",
       "    <tr>\n",
       "      <th>34</th>\n",
       "      <td>0</td>\n",
       "      <td>27</td>\n",
       "      <td>2461</td>\n",
       "      <td>0</td>\n",
       "      <td>28</td>\n",
       "      <td>3712</td>\n",
       "      <td>1</td>\n",
       "      <td>11</td>\n",
       "      <td>3302</td>\n",
       "      <td>0</td>\n",
       "      <td>...</td>\n",
       "      <td>60</td>\n",
       "      <td>2</td>\n",
       "      <td>1</td>\n",
       "      <td>2</td>\n",
       "      <td>Moderate S</td>\n",
       "      <td>24</td>\n",
       "      <td>Mild A</td>\n",
       "      <td>8</td>\n",
       "      <td>Moderate D</td>\n",
       "      <td>14</td>\n",
       "    </tr>\n",
       "    <tr>\n",
       "      <th>35</th>\n",
       "      <td>0</td>\n",
       "      <td>39</td>\n",
       "      <td>2673</td>\n",
       "      <td>2</td>\n",
       "      <td>9</td>\n",
       "      <td>3719</td>\n",
       "      <td>0</td>\n",
       "      <td>30</td>\n",
       "      <td>2771</td>\n",
       "      <td>0</td>\n",
       "      <td>...</td>\n",
       "      <td>10</td>\n",
       "      <td>2</td>\n",
       "      <td>1</td>\n",
       "      <td>4</td>\n",
       "      <td>Normal S</td>\n",
       "      <td>13</td>\n",
       "      <td>Mild A</td>\n",
       "      <td>9</td>\n",
       "      <td>Moderate D</td>\n",
       "      <td>14</td>\n",
       "    </tr>\n",
       "    <tr>\n",
       "      <th>38</th>\n",
       "      <td>1</td>\n",
       "      <td>5</td>\n",
       "      <td>2844</td>\n",
       "      <td>1</td>\n",
       "      <td>15</td>\n",
       "      <td>3449</td>\n",
       "      <td>2</td>\n",
       "      <td>34</td>\n",
       "      <td>2585</td>\n",
       "      <td>2</td>\n",
       "      <td>...</td>\n",
       "      <td>10</td>\n",
       "      <td>2</td>\n",
       "      <td>1</td>\n",
       "      <td>2</td>\n",
       "      <td>Moderate S</td>\n",
       "      <td>23</td>\n",
       "      <td>Severe A</td>\n",
       "      <td>15</td>\n",
       "      <td>Extremely D</td>\n",
       "      <td>23</td>\n",
       "    </tr>\n",
       "    <tr>\n",
       "      <th>41</th>\n",
       "      <td>2</td>\n",
       "      <td>18</td>\n",
       "      <td>2547</td>\n",
       "      <td>0</td>\n",
       "      <td>11</td>\n",
       "      <td>1495</td>\n",
       "      <td>2</td>\n",
       "      <td>17</td>\n",
       "      <td>1882</td>\n",
       "      <td>0</td>\n",
       "      <td>...</td>\n",
       "      <td>60</td>\n",
       "      <td>2</td>\n",
       "      <td>1</td>\n",
       "      <td>2</td>\n",
       "      <td>Severe S</td>\n",
       "      <td>29</td>\n",
       "      <td>Normal A</td>\n",
       "      <td>6</td>\n",
       "      <td>Extremely D</td>\n",
       "      <td>32</td>\n",
       "    </tr>\n",
       "    <tr>\n",
       "      <th>...</th>\n",
       "      <td>...</td>\n",
       "      <td>...</td>\n",
       "      <td>...</td>\n",
       "      <td>...</td>\n",
       "      <td>...</td>\n",
       "      <td>...</td>\n",
       "      <td>...</td>\n",
       "      <td>...</td>\n",
       "      <td>...</td>\n",
       "      <td>...</td>\n",
       "      <td>...</td>\n",
       "      <td>...</td>\n",
       "      <td>...</td>\n",
       "      <td>...</td>\n",
       "      <td>...</td>\n",
       "      <td>...</td>\n",
       "      <td>...</td>\n",
       "      <td>...</td>\n",
       "      <td>...</td>\n",
       "      <td>...</td>\n",
       "      <td>...</td>\n",
       "    </tr>\n",
       "    <tr>\n",
       "      <th>39646</th>\n",
       "      <td>3</td>\n",
       "      <td>27</td>\n",
       "      <td>2570</td>\n",
       "      <td>0</td>\n",
       "      <td>29</td>\n",
       "      <td>1475</td>\n",
       "      <td>2</td>\n",
       "      <td>0</td>\n",
       "      <td>3175</td>\n",
       "      <td>2</td>\n",
       "      <td>...</td>\n",
       "      <td>60</td>\n",
       "      <td>1</td>\n",
       "      <td>1</td>\n",
       "      <td>3</td>\n",
       "      <td>Extremely S</td>\n",
       "      <td>38</td>\n",
       "      <td>Mild A</td>\n",
       "      <td>9</td>\n",
       "      <td>Extremely D</td>\n",
       "      <td>26</td>\n",
       "    </tr>\n",
       "    <tr>\n",
       "      <th>39654</th>\n",
       "      <td>1</td>\n",
       "      <td>5</td>\n",
       "      <td>22799</td>\n",
       "      <td>1</td>\n",
       "      <td>7</td>\n",
       "      <td>5081</td>\n",
       "      <td>2</td>\n",
       "      <td>41</td>\n",
       "      <td>653</td>\n",
       "      <td>3</td>\n",
       "      <td>...</td>\n",
       "      <td>10</td>\n",
       "      <td>2</td>\n",
       "      <td>1</td>\n",
       "      <td>0</td>\n",
       "      <td>Normal S</td>\n",
       "      <td>12</td>\n",
       "      <td>Severe A</td>\n",
       "      <td>19</td>\n",
       "      <td>Extremely D</td>\n",
       "      <td>26</td>\n",
       "    </tr>\n",
       "    <tr>\n",
       "      <th>39662</th>\n",
       "      <td>2</td>\n",
       "      <td>10</td>\n",
       "      <td>5483</td>\n",
       "      <td>3</td>\n",
       "      <td>9</td>\n",
       "      <td>5868</td>\n",
       "      <td>2</td>\n",
       "      <td>39</td>\n",
       "      <td>4204</td>\n",
       "      <td>2</td>\n",
       "      <td>...</td>\n",
       "      <td>10</td>\n",
       "      <td>2</td>\n",
       "      <td>1</td>\n",
       "      <td>3</td>\n",
       "      <td>Severe S</td>\n",
       "      <td>26</td>\n",
       "      <td>Extremely A</td>\n",
       "      <td>27</td>\n",
       "      <td>Extremely D</td>\n",
       "      <td>28</td>\n",
       "    </tr>\n",
       "    <tr>\n",
       "      <th>39665</th>\n",
       "      <td>0</td>\n",
       "      <td>37</td>\n",
       "      <td>2104</td>\n",
       "      <td>1</td>\n",
       "      <td>16</td>\n",
       "      <td>3415</td>\n",
       "      <td>0</td>\n",
       "      <td>32</td>\n",
       "      <td>1863</td>\n",
       "      <td>0</td>\n",
       "      <td>...</td>\n",
       "      <td>10</td>\n",
       "      <td>2</td>\n",
       "      <td>1</td>\n",
       "      <td>5</td>\n",
       "      <td>Normal S</td>\n",
       "      <td>8</td>\n",
       "      <td>Normal A</td>\n",
       "      <td>7</td>\n",
       "      <td>Normal D</td>\n",
       "      <td>2</td>\n",
       "    </tr>\n",
       "    <tr>\n",
       "      <th>39677</th>\n",
       "      <td>2</td>\n",
       "      <td>8</td>\n",
       "      <td>1406</td>\n",
       "      <td>0</td>\n",
       "      <td>28</td>\n",
       "      <td>1938</td>\n",
       "      <td>3</td>\n",
       "      <td>3</td>\n",
       "      <td>3281</td>\n",
       "      <td>2</td>\n",
       "      <td>...</td>\n",
       "      <td>60</td>\n",
       "      <td>2</td>\n",
       "      <td>1</td>\n",
       "      <td>4</td>\n",
       "      <td>Severe S</td>\n",
       "      <td>28</td>\n",
       "      <td>Extremely A</td>\n",
       "      <td>25</td>\n",
       "      <td>Extremely D</td>\n",
       "      <td>30</td>\n",
       "    </tr>\n",
       "    <tr>\n",
       "      <th>39690</th>\n",
       "      <td>2</td>\n",
       "      <td>12</td>\n",
       "      <td>3497</td>\n",
       "      <td>0</td>\n",
       "      <td>6</td>\n",
       "      <td>5203</td>\n",
       "      <td>1</td>\n",
       "      <td>1</td>\n",
       "      <td>11790</td>\n",
       "      <td>2</td>\n",
       "      <td>...</td>\n",
       "      <td>50</td>\n",
       "      <td>2</td>\n",
       "      <td>1</td>\n",
       "      <td>4</td>\n",
       "      <td>Severe S</td>\n",
       "      <td>33</td>\n",
       "      <td>Extremely A</td>\n",
       "      <td>30</td>\n",
       "      <td>Extremely D</td>\n",
       "      <td>30</td>\n",
       "    </tr>\n",
       "    <tr>\n",
       "      <th>39697</th>\n",
       "      <td>1</td>\n",
       "      <td>0</td>\n",
       "      <td>6737</td>\n",
       "      <td>0</td>\n",
       "      <td>2</td>\n",
       "      <td>2887</td>\n",
       "      <td>1</td>\n",
       "      <td>12</td>\n",
       "      <td>2568</td>\n",
       "      <td>3</td>\n",
       "      <td>...</td>\n",
       "      <td>60</td>\n",
       "      <td>1</td>\n",
       "      <td>1</td>\n",
       "      <td>1</td>\n",
       "      <td>Moderate S</td>\n",
       "      <td>20</td>\n",
       "      <td>Severe A</td>\n",
       "      <td>18</td>\n",
       "      <td>Severe D</td>\n",
       "      <td>15</td>\n",
       "    </tr>\n",
       "    <tr>\n",
       "      <th>39699</th>\n",
       "      <td>2</td>\n",
       "      <td>9</td>\n",
       "      <td>10335</td>\n",
       "      <td>3</td>\n",
       "      <td>11</td>\n",
       "      <td>6698</td>\n",
       "      <td>0</td>\n",
       "      <td>19</td>\n",
       "      <td>8544</td>\n",
       "      <td>0</td>\n",
       "      <td>...</td>\n",
       "      <td>20</td>\n",
       "      <td>2</td>\n",
       "      <td>1</td>\n",
       "      <td>6</td>\n",
       "      <td>Normal S</td>\n",
       "      <td>8</td>\n",
       "      <td>Moderate A</td>\n",
       "      <td>13</td>\n",
       "      <td>Severe D</td>\n",
       "      <td>18</td>\n",
       "    </tr>\n",
       "    <tr>\n",
       "      <th>39701</th>\n",
       "      <td>3</td>\n",
       "      <td>36</td>\n",
       "      <td>2306</td>\n",
       "      <td>3</td>\n",
       "      <td>42</td>\n",
       "      <td>2206</td>\n",
       "      <td>1</td>\n",
       "      <td>17</td>\n",
       "      <td>2638</td>\n",
       "      <td>1</td>\n",
       "      <td>...</td>\n",
       "      <td>60</td>\n",
       "      <td>1</td>\n",
       "      <td>1</td>\n",
       "      <td>3</td>\n",
       "      <td>Mild S</td>\n",
       "      <td>16</td>\n",
       "      <td>Severe A</td>\n",
       "      <td>16</td>\n",
       "      <td>Extremely D</td>\n",
       "      <td>33</td>\n",
       "    </tr>\n",
       "    <tr>\n",
       "      <th>39702</th>\n",
       "      <td>1</td>\n",
       "      <td>7</td>\n",
       "      <td>4005</td>\n",
       "      <td>0</td>\n",
       "      <td>24</td>\n",
       "      <td>2799</td>\n",
       "      <td>0</td>\n",
       "      <td>13</td>\n",
       "      <td>3889</td>\n",
       "      <td>1</td>\n",
       "      <td>...</td>\n",
       "      <td>60</td>\n",
       "      <td>2</td>\n",
       "      <td>1</td>\n",
       "      <td>1</td>\n",
       "      <td>Moderate S</td>\n",
       "      <td>21</td>\n",
       "      <td>Moderate A</td>\n",
       "      <td>10</td>\n",
       "      <td>Mild D</td>\n",
       "      <td>10</td>\n",
       "    </tr>\n",
       "    <tr>\n",
       "      <th>39704</th>\n",
       "      <td>2</td>\n",
       "      <td>36</td>\n",
       "      <td>2968</td>\n",
       "      <td>0</td>\n",
       "      <td>39</td>\n",
       "      <td>3593</td>\n",
       "      <td>2</td>\n",
       "      <td>17</td>\n",
       "      <td>4116</td>\n",
       "      <td>0</td>\n",
       "      <td>...</td>\n",
       "      <td>20</td>\n",
       "      <td>2</td>\n",
       "      <td>1</td>\n",
       "      <td>5</td>\n",
       "      <td>Moderate S</td>\n",
       "      <td>21</td>\n",
       "      <td>Normal A</td>\n",
       "      <td>3</td>\n",
       "      <td>Extremely D</td>\n",
       "      <td>26</td>\n",
       "    </tr>\n",
       "    <tr>\n",
       "      <th>39707</th>\n",
       "      <td>3</td>\n",
       "      <td>38</td>\n",
       "      <td>2350</td>\n",
       "      <td>1</td>\n",
       "      <td>29</td>\n",
       "      <td>2316</td>\n",
       "      <td>3</td>\n",
       "      <td>20</td>\n",
       "      <td>2087</td>\n",
       "      <td>3</td>\n",
       "      <td>...</td>\n",
       "      <td>60</td>\n",
       "      <td>2</td>\n",
       "      <td>1</td>\n",
       "      <td>3</td>\n",
       "      <td>Extremely S</td>\n",
       "      <td>39</td>\n",
       "      <td>Extremely A</td>\n",
       "      <td>34</td>\n",
       "      <td>Extremely D</td>\n",
       "      <td>42</td>\n",
       "    </tr>\n",
       "    <tr>\n",
       "      <th>39720</th>\n",
       "      <td>0</td>\n",
       "      <td>35</td>\n",
       "      <td>2155</td>\n",
       "      <td>1</td>\n",
       "      <td>34</td>\n",
       "      <td>3256</td>\n",
       "      <td>1</td>\n",
       "      <td>25</td>\n",
       "      <td>3381</td>\n",
       "      <td>0</td>\n",
       "      <td>...</td>\n",
       "      <td>60</td>\n",
       "      <td>2</td>\n",
       "      <td>1</td>\n",
       "      <td>2</td>\n",
       "      <td>Normal S</td>\n",
       "      <td>0</td>\n",
       "      <td>Normal A</td>\n",
       "      <td>5</td>\n",
       "      <td>Extremely D</td>\n",
       "      <td>29</td>\n",
       "    </tr>\n",
       "    <tr>\n",
       "      <th>39724</th>\n",
       "      <td>3</td>\n",
       "      <td>42</td>\n",
       "      <td>2070</td>\n",
       "      <td>3</td>\n",
       "      <td>26</td>\n",
       "      <td>2022</td>\n",
       "      <td>2</td>\n",
       "      <td>10</td>\n",
       "      <td>4210</td>\n",
       "      <td>1</td>\n",
       "      <td>...</td>\n",
       "      <td>10</td>\n",
       "      <td>2</td>\n",
       "      <td>1</td>\n",
       "      <td>2</td>\n",
       "      <td>Severe S</td>\n",
       "      <td>31</td>\n",
       "      <td>Extremely A</td>\n",
       "      <td>33</td>\n",
       "      <td>Extremely D</td>\n",
       "      <td>35</td>\n",
       "    </tr>\n",
       "    <tr>\n",
       "      <th>39730</th>\n",
       "      <td>1</td>\n",
       "      <td>24</td>\n",
       "      <td>3400</td>\n",
       "      <td>2</td>\n",
       "      <td>25</td>\n",
       "      <td>3833</td>\n",
       "      <td>1</td>\n",
       "      <td>8</td>\n",
       "      <td>6406</td>\n",
       "      <td>0</td>\n",
       "      <td>...</td>\n",
       "      <td>70</td>\n",
       "      <td>2</td>\n",
       "      <td>1</td>\n",
       "      <td>3</td>\n",
       "      <td>Normal S</td>\n",
       "      <td>14</td>\n",
       "      <td>Mild A</td>\n",
       "      <td>9</td>\n",
       "      <td>Severe D</td>\n",
       "      <td>16</td>\n",
       "    </tr>\n",
       "    <tr>\n",
       "      <th>39735</th>\n",
       "      <td>0</td>\n",
       "      <td>41</td>\n",
       "      <td>4081</td>\n",
       "      <td>1</td>\n",
       "      <td>10</td>\n",
       "      <td>7567</td>\n",
       "      <td>1</td>\n",
       "      <td>31</td>\n",
       "      <td>3196</td>\n",
       "      <td>0</td>\n",
       "      <td>...</td>\n",
       "      <td>10</td>\n",
       "      <td>2</td>\n",
       "      <td>1</td>\n",
       "      <td>3</td>\n",
       "      <td>Normal S</td>\n",
       "      <td>13</td>\n",
       "      <td>Normal A</td>\n",
       "      <td>2</td>\n",
       "      <td>Mild D</td>\n",
       "      <td>13</td>\n",
       "    </tr>\n",
       "    <tr>\n",
       "      <th>39737</th>\n",
       "      <td>3</td>\n",
       "      <td>24</td>\n",
       "      <td>2999</td>\n",
       "      <td>2</td>\n",
       "      <td>14</td>\n",
       "      <td>1998</td>\n",
       "      <td>1</td>\n",
       "      <td>41</td>\n",
       "      <td>3219</td>\n",
       "      <td>2</td>\n",
       "      <td>...</td>\n",
       "      <td>10</td>\n",
       "      <td>2</td>\n",
       "      <td>1</td>\n",
       "      <td>4</td>\n",
       "      <td>Extremely S</td>\n",
       "      <td>34</td>\n",
       "      <td>Extremely A</td>\n",
       "      <td>27</td>\n",
       "      <td>Extremely D</td>\n",
       "      <td>36</td>\n",
       "    </tr>\n",
       "    <tr>\n",
       "      <th>39738</th>\n",
       "      <td>3</td>\n",
       "      <td>20</td>\n",
       "      <td>23562</td>\n",
       "      <td>3</td>\n",
       "      <td>29</td>\n",
       "      <td>4048</td>\n",
       "      <td>2</td>\n",
       "      <td>41</td>\n",
       "      <td>3720</td>\n",
       "      <td>0</td>\n",
       "      <td>...</td>\n",
       "      <td>10</td>\n",
       "      <td>2</td>\n",
       "      <td>1</td>\n",
       "      <td>7</td>\n",
       "      <td>Severe S</td>\n",
       "      <td>32</td>\n",
       "      <td>Severe A</td>\n",
       "      <td>15</td>\n",
       "      <td>Extremely D</td>\n",
       "      <td>40</td>\n",
       "    </tr>\n",
       "    <tr>\n",
       "      <th>39740</th>\n",
       "      <td>3</td>\n",
       "      <td>13</td>\n",
       "      <td>2459</td>\n",
       "      <td>3</td>\n",
       "      <td>38</td>\n",
       "      <td>2413</td>\n",
       "      <td>3</td>\n",
       "      <td>22</td>\n",
       "      <td>2649</td>\n",
       "      <td>2</td>\n",
       "      <td>...</td>\n",
       "      <td>10</td>\n",
       "      <td>2</td>\n",
       "      <td>1</td>\n",
       "      <td>2</td>\n",
       "      <td>Severe S</td>\n",
       "      <td>33</td>\n",
       "      <td>Extremely A</td>\n",
       "      <td>31</td>\n",
       "      <td>Extremely D</td>\n",
       "      <td>37</td>\n",
       "    </tr>\n",
       "    <tr>\n",
       "      <th>39744</th>\n",
       "      <td>3</td>\n",
       "      <td>31</td>\n",
       "      <td>2913</td>\n",
       "      <td>3</td>\n",
       "      <td>33</td>\n",
       "      <td>2296</td>\n",
       "      <td>3</td>\n",
       "      <td>39</td>\n",
       "      <td>2706</td>\n",
       "      <td>1</td>\n",
       "      <td>...</td>\n",
       "      <td>10</td>\n",
       "      <td>2</td>\n",
       "      <td>1</td>\n",
       "      <td>3</td>\n",
       "      <td>Extremely S</td>\n",
       "      <td>41</td>\n",
       "      <td>Extremely A</td>\n",
       "      <td>24</td>\n",
       "      <td>Extremely D</td>\n",
       "      <td>38</td>\n",
       "    </tr>\n",
       "    <tr>\n",
       "      <th>39745</th>\n",
       "      <td>3</td>\n",
       "      <td>5</td>\n",
       "      <td>5117</td>\n",
       "      <td>3</td>\n",
       "      <td>22</td>\n",
       "      <td>2535</td>\n",
       "      <td>2</td>\n",
       "      <td>40</td>\n",
       "      <td>5404</td>\n",
       "      <td>1</td>\n",
       "      <td>...</td>\n",
       "      <td>10</td>\n",
       "      <td>2</td>\n",
       "      <td>1</td>\n",
       "      <td>2</td>\n",
       "      <td>Extremely S</td>\n",
       "      <td>37</td>\n",
       "      <td>Extremely A</td>\n",
       "      <td>27</td>\n",
       "      <td>Extremely D</td>\n",
       "      <td>35</td>\n",
       "    </tr>\n",
       "    <tr>\n",
       "      <th>39746</th>\n",
       "      <td>2</td>\n",
       "      <td>21</td>\n",
       "      <td>4993</td>\n",
       "      <td>1</td>\n",
       "      <td>36</td>\n",
       "      <td>5032</td>\n",
       "      <td>2</td>\n",
       "      <td>26</td>\n",
       "      <td>3601</td>\n",
       "      <td>3</td>\n",
       "      <td>...</td>\n",
       "      <td>10</td>\n",
       "      <td>2</td>\n",
       "      <td>1</td>\n",
       "      <td>1</td>\n",
       "      <td>Severe S</td>\n",
       "      <td>31</td>\n",
       "      <td>Extremely A</td>\n",
       "      <td>31</td>\n",
       "      <td>Extremely D</td>\n",
       "      <td>36</td>\n",
       "    </tr>\n",
       "    <tr>\n",
       "      <th>39750</th>\n",
       "      <td>2</td>\n",
       "      <td>15</td>\n",
       "      <td>2892</td>\n",
       "      <td>3</td>\n",
       "      <td>24</td>\n",
       "      <td>1848</td>\n",
       "      <td>3</td>\n",
       "      <td>12</td>\n",
       "      <td>2395</td>\n",
       "      <td>3</td>\n",
       "      <td>...</td>\n",
       "      <td>10</td>\n",
       "      <td>2</td>\n",
       "      <td>1</td>\n",
       "      <td>5</td>\n",
       "      <td>Severe S</td>\n",
       "      <td>32</td>\n",
       "      <td>Extremely A</td>\n",
       "      <td>38</td>\n",
       "      <td>Extremely D</td>\n",
       "      <td>41</td>\n",
       "    </tr>\n",
       "    <tr>\n",
       "      <th>39752</th>\n",
       "      <td>3</td>\n",
       "      <td>8</td>\n",
       "      <td>256</td>\n",
       "      <td>3</td>\n",
       "      <td>14</td>\n",
       "      <td>202</td>\n",
       "      <td>2</td>\n",
       "      <td>25</td>\n",
       "      <td>196</td>\n",
       "      <td>2</td>\n",
       "      <td>...</td>\n",
       "      <td>10</td>\n",
       "      <td>2</td>\n",
       "      <td>1</td>\n",
       "      <td>4</td>\n",
       "      <td>Extremely S</td>\n",
       "      <td>36</td>\n",
       "      <td>Extremely A</td>\n",
       "      <td>33</td>\n",
       "      <td>Extremely D</td>\n",
       "      <td>30</td>\n",
       "    </tr>\n",
       "    <tr>\n",
       "      <th>39758</th>\n",
       "      <td>3</td>\n",
       "      <td>11</td>\n",
       "      <td>2249</td>\n",
       "      <td>3</td>\n",
       "      <td>6</td>\n",
       "      <td>1465</td>\n",
       "      <td>1</td>\n",
       "      <td>15</td>\n",
       "      <td>1801</td>\n",
       "      <td>1</td>\n",
       "      <td>...</td>\n",
       "      <td>60</td>\n",
       "      <td>2</td>\n",
       "      <td>1</td>\n",
       "      <td>1</td>\n",
       "      <td>Extremely S</td>\n",
       "      <td>39</td>\n",
       "      <td>Extremely A</td>\n",
       "      <td>21</td>\n",
       "      <td>Extremely D</td>\n",
       "      <td>33</td>\n",
       "    </tr>\n",
       "    <tr>\n",
       "      <th>39759</th>\n",
       "      <td>1</td>\n",
       "      <td>41</td>\n",
       "      <td>15596</td>\n",
       "      <td>0</td>\n",
       "      <td>24</td>\n",
       "      <td>1818</td>\n",
       "      <td>1</td>\n",
       "      <td>25</td>\n",
       "      <td>1921</td>\n",
       "      <td>0</td>\n",
       "      <td>...</td>\n",
       "      <td>10</td>\n",
       "      <td>2</td>\n",
       "      <td>1</td>\n",
       "      <td>4</td>\n",
       "      <td>Moderate S</td>\n",
       "      <td>19</td>\n",
       "      <td>Moderate A</td>\n",
       "      <td>10</td>\n",
       "      <td>Extremely D</td>\n",
       "      <td>22</td>\n",
       "    </tr>\n",
       "    <tr>\n",
       "      <th>39766</th>\n",
       "      <td>1</td>\n",
       "      <td>39</td>\n",
       "      <td>2305</td>\n",
       "      <td>0</td>\n",
       "      <td>33</td>\n",
       "      <td>2188</td>\n",
       "      <td>0</td>\n",
       "      <td>7</td>\n",
       "      <td>1924</td>\n",
       "      <td>1</td>\n",
       "      <td>...</td>\n",
       "      <td>70</td>\n",
       "      <td>1</td>\n",
       "      <td>1</td>\n",
       "      <td>2</td>\n",
       "      <td>Mild S</td>\n",
       "      <td>15</td>\n",
       "      <td>Severe A</td>\n",
       "      <td>19</td>\n",
       "      <td>Normal D</td>\n",
       "      <td>7</td>\n",
       "    </tr>\n",
       "    <tr>\n",
       "      <th>39767</th>\n",
       "      <td>3</td>\n",
       "      <td>0</td>\n",
       "      <td>14275</td>\n",
       "      <td>3</td>\n",
       "      <td>3</td>\n",
       "      <td>4721</td>\n",
       "      <td>3</td>\n",
       "      <td>33</td>\n",
       "      <td>3934</td>\n",
       "      <td>2</td>\n",
       "      <td>...</td>\n",
       "      <td>20</td>\n",
       "      <td>2</td>\n",
       "      <td>1</td>\n",
       "      <td>2</td>\n",
       "      <td>Extremely S</td>\n",
       "      <td>38</td>\n",
       "      <td>Extremely A</td>\n",
       "      <td>28</td>\n",
       "      <td>Extremely D</td>\n",
       "      <td>42</td>\n",
       "    </tr>\n",
       "    <tr>\n",
       "      <th>39769</th>\n",
       "      <td>2</td>\n",
       "      <td>32</td>\n",
       "      <td>28897</td>\n",
       "      <td>3</td>\n",
       "      <td>3</td>\n",
       "      <td>3025</td>\n",
       "      <td>1</td>\n",
       "      <td>30</td>\n",
       "      <td>3248</td>\n",
       "      <td>1</td>\n",
       "      <td>...</td>\n",
       "      <td>70</td>\n",
       "      <td>2</td>\n",
       "      <td>1</td>\n",
       "      <td>3</td>\n",
       "      <td>Severe S</td>\n",
       "      <td>30</td>\n",
       "      <td>Extremely A</td>\n",
       "      <td>21</td>\n",
       "      <td>Severe D</td>\n",
       "      <td>15</td>\n",
       "    </tr>\n",
       "    <tr>\n",
       "      <th>39770</th>\n",
       "      <td>1</td>\n",
       "      <td>31</td>\n",
       "      <td>3287</td>\n",
       "      <td>0</td>\n",
       "      <td>5</td>\n",
       "      <td>2216</td>\n",
       "      <td>2</td>\n",
       "      <td>29</td>\n",
       "      <td>3895</td>\n",
       "      <td>1</td>\n",
       "      <td>...</td>\n",
       "      <td>60</td>\n",
       "      <td>2</td>\n",
       "      <td>1</td>\n",
       "      <td>2</td>\n",
       "      <td>Mild S</td>\n",
       "      <td>15</td>\n",
       "      <td>Moderate A</td>\n",
       "      <td>12</td>\n",
       "      <td>Extremely D</td>\n",
       "      <td>36</td>\n",
       "    </tr>\n",
       "  </tbody>\n",
       "</table>\n",
       "<p>13825 rows × 176 columns</p>\n",
       "</div>"
      ],
      "text/plain": [
       "       Q1A  Q1I    Q1E  Q2A  Q2I   Q2E  Q3A  Q3I    Q3E  Q4A  ...  race  \\\n",
       "0        3   28   3890    3   25  2122    1   16   1944    3  ...    10   \n",
       "1        3    1   8118    0   36  2890    1   35   4777    2  ...    70   \n",
       "2        2    7   5784    0   33  4373    3   41   3242    0  ...    60   \n",
       "3        1   23   5081    2   11  6837    1   37   5521    0  ...    70   \n",
       "4        1   36   3215    1   13  7731    2    5   4156    3  ...    10   \n",
       "6        0   20   4325    0   34  4009    1   38   3604    2  ...    60   \n",
       "8        3    3   3470    3   14  2139    2    0  11043    3  ...    70   \n",
       "9        2   38   5187    1   28  2600    3    9   2015    0  ...    60   \n",
       "10       2   38   3352    0   16  4322    1   28   3083    0  ...    60   \n",
       "11       2   37   4024    2   35  2116    1   18   3408    1  ...    60   \n",
       "15       2   17   2316    0   18  2450    1   11   3143    1  ...    60   \n",
       "16       2   15   2789    0    2  4500    1   25   3900    1  ...    60   \n",
       "17       2   17   2507    0   27  1334    1   38   1864    0  ...    60   \n",
       "18       2    5   6729    1    3  4793    1   20   3328    0  ...    60   \n",
       "19       1    8   4144    1   27  4442    1   37   7254    0  ...    50   \n",
       "20       2    0   9774    0   38  2011    1   28   2618    0  ...    60   \n",
       "21       2   41  50135    0   11  2033    1   38   3882    0  ...    60   \n",
       "23       2   14   6074    1    6  5943    1   31   4097    1  ...    70   \n",
       "25       3   23   2453    0    6  7105    3   21   1923    1  ...    10   \n",
       "26       3    0   4820    3   39  1109    3    8   1833    3  ...    60   \n",
       "27       1   28   2984    1   35  3838    0   11   3116    1  ...    60   \n",
       "28       3   12   2431    2    2  9289    3   15   3330    3  ...    70   \n",
       "29       0    9   2236    0   10  1437    1    7   2570    0  ...    70   \n",
       "30       1   35   1531    1   22  2909    2   31   3694    0  ...    70   \n",
       "31       1   25   3671    1   26  5743    1   13   3154    0  ...    60   \n",
       "33       1   41   4705    0   42  2187    1   11   3007    0  ...    60   \n",
       "34       0   27   2461    0   28  3712    1   11   3302    0  ...    60   \n",
       "35       0   39   2673    2    9  3719    0   30   2771    0  ...    10   \n",
       "38       1    5   2844    1   15  3449    2   34   2585    2  ...    10   \n",
       "41       2   18   2547    0   11  1495    2   17   1882    0  ...    60   \n",
       "...    ...  ...    ...  ...  ...   ...  ...  ...    ...  ...  ...   ...   \n",
       "39646    3   27   2570    0   29  1475    2    0   3175    2  ...    60   \n",
       "39654    1    5  22799    1    7  5081    2   41    653    3  ...    10   \n",
       "39662    2   10   5483    3    9  5868    2   39   4204    2  ...    10   \n",
       "39665    0   37   2104    1   16  3415    0   32   1863    0  ...    10   \n",
       "39677    2    8   1406    0   28  1938    3    3   3281    2  ...    60   \n",
       "39690    2   12   3497    0    6  5203    1    1  11790    2  ...    50   \n",
       "39697    1    0   6737    0    2  2887    1   12   2568    3  ...    60   \n",
       "39699    2    9  10335    3   11  6698    0   19   8544    0  ...    20   \n",
       "39701    3   36   2306    3   42  2206    1   17   2638    1  ...    60   \n",
       "39702    1    7   4005    0   24  2799    0   13   3889    1  ...    60   \n",
       "39704    2   36   2968    0   39  3593    2   17   4116    0  ...    20   \n",
       "39707    3   38   2350    1   29  2316    3   20   2087    3  ...    60   \n",
       "39720    0   35   2155    1   34  3256    1   25   3381    0  ...    60   \n",
       "39724    3   42   2070    3   26  2022    2   10   4210    1  ...    10   \n",
       "39730    1   24   3400    2   25  3833    1    8   6406    0  ...    70   \n",
       "39735    0   41   4081    1   10  7567    1   31   3196    0  ...    10   \n",
       "39737    3   24   2999    2   14  1998    1   41   3219    2  ...    10   \n",
       "39738    3   20  23562    3   29  4048    2   41   3720    0  ...    10   \n",
       "39740    3   13   2459    3   38  2413    3   22   2649    2  ...    10   \n",
       "39744    3   31   2913    3   33  2296    3   39   2706    1  ...    10   \n",
       "39745    3    5   5117    3   22  2535    2   40   5404    1  ...    10   \n",
       "39746    2   21   4993    1   36  5032    2   26   3601    3  ...    10   \n",
       "39750    2   15   2892    3   24  1848    3   12   2395    3  ...    10   \n",
       "39752    3    8    256    3   14   202    2   25    196    2  ...    10   \n",
       "39758    3   11   2249    3    6  1465    1   15   1801    1  ...    60   \n",
       "39759    1   41  15596    0   24  1818    1   25   1921    0  ...    10   \n",
       "39766    1   39   2305    0   33  2188    0    7   1924    1  ...    70   \n",
       "39767    3    0  14275    3    3  4721    3   33   3934    2  ...    20   \n",
       "39769    2   32  28897    3    3  3025    1   30   3248    1  ...    70   \n",
       "39770    1   31   3287    0    5  2216    2   29   3895    1  ...    60   \n",
       "\n",
       "       voted  married  familysize       Stress  Stress_R      Anxiety  \\\n",
       "0          2        1           2  Extremely S        40  Extremely A   \n",
       "1          2        1           4     Severe S        27     Severe A   \n",
       "2          1        1           3       Mild S        17   Moderate A   \n",
       "3          2        1           5       Mild S        16     Severe A   \n",
       "4          2        1           4     Severe S        29  Extremely A   \n",
       "6          2        1           4     Normal S        14     Severe A   \n",
       "8          2        1           4     Severe S        33  Extremely A   \n",
       "9          2        1           3  Extremely S        34  Extremely A   \n",
       "10         2        1           1   Moderate S        24     Normal A   \n",
       "11         2        1           2     Severe S        27  Extremely A   \n",
       "15         2        1           1       Mild S        15     Normal A   \n",
       "16         2        1           2     Severe S        29     Severe A   \n",
       "17         2        1           5     Normal S        12     Normal A   \n",
       "18         2        1           1     Normal S        14     Normal A   \n",
       "19         2        1           2     Normal S        14       Mild A   \n",
       "20         2        1           5       Mild S        17     Normal A   \n",
       "21         2        1           1     Severe S        27     Normal A   \n",
       "23         2        1           3   Moderate S        24   Moderate A   \n",
       "25         2        1           2     Severe S        32  Extremely A   \n",
       "26         2        1           3  Extremely S        41  Extremely A   \n",
       "27         2        1           1   Moderate S        19  Extremely A   \n",
       "28         2        1           2  Extremely S        36  Extremely A   \n",
       "29         2        1           3     Normal S         1     Normal A   \n",
       "30         2        1           2   Moderate S        23   Moderate A   \n",
       "31         2        1           3     Normal S         7       Mild A   \n",
       "33         2        1           2   Moderate S        22       Mild A   \n",
       "34         2        1           2   Moderate S        24       Mild A   \n",
       "35         2        1           4     Normal S        13       Mild A   \n",
       "38         2        1           2   Moderate S        23     Severe A   \n",
       "41         2        1           2     Severe S        29     Normal A   \n",
       "...      ...      ...         ...          ...       ...          ...   \n",
       "39646      1        1           3  Extremely S        38       Mild A   \n",
       "39654      2        1           0     Normal S        12     Severe A   \n",
       "39662      2        1           3     Severe S        26  Extremely A   \n",
       "39665      2        1           5     Normal S         8     Normal A   \n",
       "39677      2        1           4     Severe S        28  Extremely A   \n",
       "39690      2        1           4     Severe S        33  Extremely A   \n",
       "39697      1        1           1   Moderate S        20     Severe A   \n",
       "39699      2        1           6     Normal S         8   Moderate A   \n",
       "39701      1        1           3       Mild S        16     Severe A   \n",
       "39702      2        1           1   Moderate S        21   Moderate A   \n",
       "39704      2        1           5   Moderate S        21     Normal A   \n",
       "39707      2        1           3  Extremely S        39  Extremely A   \n",
       "39720      2        1           2     Normal S         0     Normal A   \n",
       "39724      2        1           2     Severe S        31  Extremely A   \n",
       "39730      2        1           3     Normal S        14       Mild A   \n",
       "39735      2        1           3     Normal S        13     Normal A   \n",
       "39737      2        1           4  Extremely S        34  Extremely A   \n",
       "39738      2        1           7     Severe S        32     Severe A   \n",
       "39740      2        1           2     Severe S        33  Extremely A   \n",
       "39744      2        1           3  Extremely S        41  Extremely A   \n",
       "39745      2        1           2  Extremely S        37  Extremely A   \n",
       "39746      2        1           1     Severe S        31  Extremely A   \n",
       "39750      2        1           5     Severe S        32  Extremely A   \n",
       "39752      2        1           4  Extremely S        36  Extremely A   \n",
       "39758      2        1           1  Extremely S        39  Extremely A   \n",
       "39759      2        1           4   Moderate S        19   Moderate A   \n",
       "39766      1        1           2       Mild S        15     Severe A   \n",
       "39767      2        1           2  Extremely S        38  Extremely A   \n",
       "39769      2        1           3     Severe S        30  Extremely A   \n",
       "39770      2        1           2       Mild S        15   Moderate A   \n",
       "\n",
       "       Anxiety_R   Depression  Depression_R  \n",
       "0             34  Extremely D            27  \n",
       "1             17  Extremely D            24  \n",
       "2             12  Extremely D            39  \n",
       "3             17     Severe D            16  \n",
       "4             40  Extremely D            32  \n",
       "6             19  Extremely D            31  \n",
       "8             39  Extremely D            35  \n",
       "9             28  Extremely D            42  \n",
       "10             2   Moderate D            14  \n",
       "11            20     Severe D            19  \n",
       "15             5     Severe D            16  \n",
       "16            15       Mild D            11  \n",
       "17             3   Moderate D            14  \n",
       "18             2   Moderate D            14  \n",
       "19             8  Extremely D            23  \n",
       "20             3       Mild D            10  \n",
       "21             3  Extremely D            21  \n",
       "23            13     Severe D            18  \n",
       "25            25  Extremely D            42  \n",
       "26            41  Extremely D            38  \n",
       "27            22       Mild D            10  \n",
       "28            40  Extremely D            42  \n",
       "29             1     Normal D             9  \n",
       "30            14  Extremely D            24  \n",
       "31             8  Extremely D            30  \n",
       "33             8       Mild D            10  \n",
       "34             8   Moderate D            14  \n",
       "35             9   Moderate D            14  \n",
       "38            15  Extremely D            23  \n",
       "41             6  Extremely D            32  \n",
       "...          ...          ...           ...  \n",
       "39646          9  Extremely D            26  \n",
       "39654         19  Extremely D            26  \n",
       "39662         27  Extremely D            28  \n",
       "39665          7     Normal D             2  \n",
       "39677         25  Extremely D            30  \n",
       "39690         30  Extremely D            30  \n",
       "39697         18     Severe D            15  \n",
       "39699         13     Severe D            18  \n",
       "39701         16  Extremely D            33  \n",
       "39702         10       Mild D            10  \n",
       "39704          3  Extremely D            26  \n",
       "39707         34  Extremely D            42  \n",
       "39720          5  Extremely D            29  \n",
       "39724         33  Extremely D            35  \n",
       "39730          9     Severe D            16  \n",
       "39735          2       Mild D            13  \n",
       "39737         27  Extremely D            36  \n",
       "39738         15  Extremely D            40  \n",
       "39740         31  Extremely D            37  \n",
       "39744         24  Extremely D            38  \n",
       "39745         27  Extremely D            35  \n",
       "39746         31  Extremely D            36  \n",
       "39750         38  Extremely D            41  \n",
       "39752         33  Extremely D            30  \n",
       "39758         21  Extremely D            33  \n",
       "39759         10  Extremely D            22  \n",
       "39766         19     Normal D             7  \n",
       "39767         28  Extremely D            42  \n",
       "39769         21     Severe D            15  \n",
       "39770         12  Extremely D            36  \n",
       "\n",
       "[13825 rows x 176 columns]"
      ]
     },
     "execution_count": 50,
     "metadata": {},
     "output_type": "execute_result"
    }
   ],
   "source": [
    "teen_data = (data['age'] > 12) & (data['age'] <= 19)\n",
    "teen_data = data.loc[teen_data]\n",
    "teen_data"
   ]
  },
  {
   "cell_type": "code",
   "execution_count": 51,
   "metadata": {},
   "outputs": [],
   "source": [
    "modeldataR = teen_data[['Q1A','Q6A','Q8A','Q11A','Q12A','Q14A','Q18A','Q22A','Q27A','Q29A','Q32A','Q33A','Q35A','Q39A',\n",
    "\"Q2A\",\"Q4A\",\"Q7A\",\"Q9A\",\"Q15A\",\"Q19A\",\"Q20A\",\"Q23A\",\"Q25A\",\"Q28A\",\"Q30A\",\"Q36A\",\"Q40A\",\"Q41A\",\"Q3A\",\"Q5A\",\"Q10A\",\"Q13A\",\"Q16A\",\"Q17A\",\"Q21A\",\"Q24A\",\"Q26A\",\"Q31A\",\"Q34A\",\"Q37A\",\"Q38A\",\"Q42A\",'age','Stress_R','Depression_R','Anxiety_R']]"
   ]
  },
  {
   "cell_type": "code",
   "execution_count": 52,
   "metadata": {},
   "outputs": [],
   "source": [
    "#splittin the data in train and test sets\n",
    "from sklearn.model_selection import train_test_split\n",
    "\n"
   ]
  },
  {
   "cell_type": "code",
   "execution_count": 53,
   "metadata": {},
   "outputs": [],
   "source": [
    "X = modeldataR.iloc[:, :43].values\n",
    "Y = modeldataR.iloc[:, 43:].values\n",
    "\n",
    "x_train, x_test, y_train, y_test = train_test_split(X, Y, \n",
    "    test_size=0.2, random_state= 8)"
   ]
  },
  {
   "cell_type": "code",
   "execution_count": 54,
   "metadata": {},
   "outputs": [
    {
     "name": "stdout",
     "output_type": "stream",
     "text": [
      "(11060, 43)\n",
      "(11060, 3)\n",
      "(2765, 43)\n",
      "(2765, 3)\n"
     ]
    }
   ],
   "source": [
    "print(x_train.shape)\n",
    "print(y_train.shape)\n",
    "print(x_test.shape)\n",
    "print(y_test.shape)"
   ]
  },
  {
   "cell_type": "markdown",
   "metadata": {},
   "source": [
    "First approach - Using Regression method"
   ]
  },
  {
   "cell_type": "code",
   "execution_count": 55,
   "metadata": {},
   "outputs": [],
   "source": [
    "from sklearn.multioutput import MultiOutputRegressor\n",
    "from sklearn.multioutput import MultiOutputClassifier\n",
    "from sklearn.tree import DecisionTreeRegressor\n",
    "from sklearn.svm import LinearSVR\n",
    "from sklearn.ensemble import GradientBoostingRegressor\n",
    "from sklearn.ensemble import RandomForestClassifier\n",
    "from sklearn.ensemble import RandomForestRegressor\n",
    "from sklearn.linear_model import LinearRegression"
   ]
  },
  {
   "cell_type": "code",
   "execution_count": 56,
   "metadata": {},
   "outputs": [
    {
     "data": {
      "text/plain": [
       "MultiOutputRegressor(estimator=LinearRegression(copy_X=True, fit_intercept=True, n_jobs=None,\n",
       "         normalize=False),\n",
       "           n_jobs=None)"
      ]
     },
     "execution_count": 56,
     "metadata": {},
     "output_type": "execute_result"
    }
   ],
   "source": [
    "#Implementing Linear Regression \n",
    "\n",
    "log_model = LinearRegression()\n",
    "wrapper = MultiOutputRegressor(estimator = log_model)\n",
    "# fit model\n",
    "wrapper.fit(x_train, y_train)\n"
   ]
  },
  {
   "cell_type": "code",
   "execution_count": 57,
   "metadata": {},
   "outputs": [
    {
     "name": "stdout",
     "output_type": "stream",
     "text": [
      "[[29 38 24]\n",
      " [15  5  7]\n",
      " [39 35 37]\n",
      " ...\n",
      " [ 4  4  5]\n",
      " [25 40 18]\n",
      " [11  8 14]]\n"
     ]
    }
   ],
   "source": [
    "log_pred = wrapper.predict(x_test)\n",
    "\n",
    "log_pred = log_pred.astype(int)\n",
    "print(log_pred)"
   ]
  },
  {
   "cell_type": "code",
   "execution_count": 58,
   "metadata": {},
   "outputs": [
    {
     "name": "stdout",
     "output_type": "stream",
     "text": [
      "0.5112718505123568\n"
     ]
    }
   ],
   "source": [
    "log_accuracy = np.mean(log_pred == y_test)\n",
    "\n",
    "print(log_accuracy)"
   ]
  },
  {
   "cell_type": "code",
   "execution_count": 59,
   "metadata": {},
   "outputs": [
    {
     "name": "stderr",
     "output_type": "stream",
     "text": [
      "/home/akshay/anaconda3/lib/python3.7/site-packages/sklearn/ensemble/forest.py:246: FutureWarning: The default value of n_estimators will change from 10 in version 0.20 to 100 in 0.22.\n",
      "  \"10 in version 0.20 to 100 in 0.22.\", FutureWarning)\n",
      "/home/akshay/anaconda3/lib/python3.7/site-packages/sklearn/ensemble/forest.py:246: FutureWarning: The default value of n_estimators will change from 10 in version 0.20 to 100 in 0.22.\n",
      "  \"10 in version 0.20 to 100 in 0.22.\", FutureWarning)\n",
      "/home/akshay/anaconda3/lib/python3.7/site-packages/sklearn/ensemble/forest.py:246: FutureWarning: The default value of n_estimators will change from 10 in version 0.20 to 100 in 0.22.\n",
      "  \"10 in version 0.20 to 100 in 0.22.\", FutureWarning)\n"
     ]
    },
    {
     "data": {
      "text/plain": [
       "MultiOutputRegressor(estimator=RandomForestRegressor(bootstrap=True, criterion='mse', max_depth=None,\n",
       "           max_features='auto', max_leaf_nodes=None,\n",
       "           min_impurity_decrease=0.0, min_impurity_split=None,\n",
       "           min_samples_leaf=1, min_samples_split=2,\n",
       "           min_weight_fraction_leaf=0.0, n_estimators='warn', n_jobs=None,\n",
       "           oob_score=False, random_state=1, verbose=0, warm_start=False),\n",
       "           n_jobs=None)"
      ]
     },
     "execution_count": 59,
     "metadata": {},
     "output_type": "execute_result"
    }
   ],
   "source": [
    "#Implementing Random Forest\n",
    "forest = RandomForestRegressor(random_state = 1)\n",
    "wrapper = MultiOutputRegressor(estimator = forest)\n",
    "# fit model\n",
    "wrapper.fit(x_train, y_train)\n"
   ]
  },
  {
   "cell_type": "code",
   "execution_count": 60,
   "metadata": {},
   "outputs": [
    {
     "name": "stdout",
     "output_type": "stream",
     "text": [
      "[[30 38 26]\n",
      " [15  7 10]\n",
      " [39 35 36]\n",
      " ...\n",
      " [ 6  6  5]\n",
      " [25 39 19]\n",
      " [11 10 18]]\n"
     ]
    }
   ],
   "source": [
    "pred = wrapper.predict(x_test)\n",
    "\n",
    "rf_pred = pred.astype(int)\n",
    "print(rf_pred)"
   ]
  },
  {
   "cell_type": "code",
   "execution_count": 61,
   "metadata": {},
   "outputs": [
    {
     "name": "stdout",
     "output_type": "stream",
     "text": [
      "0.281374321880651\n"
     ]
    }
   ],
   "source": [
    "accuracy = np.mean(rf_pred == y_test)\n",
    "\n",
    "print(accuracy)"
   ]
  },
  {
   "cell_type": "code",
   "execution_count": 62,
   "metadata": {},
   "outputs": [],
   "source": [
    "from sklearn.tree import DecisionTreeClassifier\n",
    "from sklearn.tree import DecisionTreeRegressor\n",
    "from sklearn import tree"
   ]
  },
  {
   "cell_type": "code",
   "execution_count": 63,
   "metadata": {},
   "outputs": [
    {
     "data": {
      "text/plain": [
       "MultiOutputRegressor(estimator=DecisionTreeRegressor(criterion='mse', max_depth=None, max_features=None,\n",
       "           max_leaf_nodes=None, min_impurity_decrease=0.0,\n",
       "           min_impurity_split=None, min_samples_leaf=1,\n",
       "           min_samples_split=2, min_weight_fraction_leaf=0.0,\n",
       "           presort=False, random_state=None, splitter='best'),\n",
       "           n_jobs=None)"
      ]
     },
     "execution_count": 63,
     "metadata": {},
     "output_type": "execute_result"
    }
   ],
   "source": [
    "clf = tree.DecisionTreeRegressor()\n",
    "decisiontree = MultiOutputRegressor(estimator = clf)\n",
    "decisiontree.fit(x_train, y_train)"
   ]
  },
  {
   "cell_type": "code",
   "execution_count": 64,
   "metadata": {},
   "outputs": [
    {
     "name": "stdout",
     "output_type": "stream",
     "text": [
      "[[27 35 25]\n",
      " [18  7 13]\n",
      " [40 35 39]\n",
      " ...\n",
      " [ 5  6  4]\n",
      " [24 40 20]\n",
      " [15  9 18]]\n"
     ]
    }
   ],
   "source": [
    "dtpred = decisiontree.predict(x_test)\n",
    "dtpred = dtpred.astype(int)\n",
    "print(dtpred)"
   ]
  },
  {
   "cell_type": "code",
   "execution_count": 65,
   "metadata": {},
   "outputs": [
    {
     "name": "stdout",
     "output_type": "stream",
     "text": [
      "0.20144665461121158\n"
     ]
    }
   ],
   "source": [
    "dtaccu = np.mean(dtpred == y_test)\n",
    "\n",
    "print(dtaccu)"
   ]
  },
  {
   "cell_type": "code",
   "execution_count": 66,
   "metadata": {},
   "outputs": [],
   "source": [
    "#Implementing Support Vector Machine Models\n",
    "\n",
    "from sklearn.svm import SVC  \n",
    "from sklearn.multioutput import MultiOutputClassifier"
   ]
  },
  {
   "cell_type": "code",
   "execution_count": 67,
   "metadata": {},
   "outputs": [
    {
     "data": {
      "text/plain": [
       "MultiOutputRegressor(estimator=SVC(C=1.0, cache_size=200, class_weight=None, coef0=0.0,\n",
       "  decision_function_shape='ovr', degree=3, gamma='auto_deprecated',\n",
       "  kernel='linear', max_iter=-1, probability=False, random_state=None,\n",
       "  shrinking=True, tol=0.001, verbose=False),\n",
       "           n_jobs=None)"
      ]
     },
     "execution_count": 67,
     "metadata": {},
     "output_type": "execute_result"
    }
   ],
   "source": [
    "clfsvc = SVC(kernel='linear') \n",
    "modelsvc = MultiOutputRegressor(estimator = clfsvc)  \n",
    "# fitting x samples and y classes \n",
    "modelsvc.fit(x_train, y_train)"
   ]
  },
  {
   "cell_type": "code",
   "execution_count": 68,
   "metadata": {},
   "outputs": [],
   "source": [
    "predSVC = modelsvc.predict(x_test)"
   ]
  },
  {
   "cell_type": "code",
   "execution_count": 71,
   "metadata": {},
   "outputs": [
    {
     "name": "stdout",
     "output_type": "stream",
     "text": [
      "0.9997588908981314\n"
     ]
    }
   ],
   "source": [
    "accuracySVC = np.mean(predSVC == y_test)\n",
    "\n",
    "print(accuracySVC)"
   ]
  },
  {
   "cell_type": "code",
   "execution_count": 72,
   "metadata": {},
   "outputs": [
    {
     "data": {
      "text/plain": [
       "<matplotlib.collections.PathCollection at 0x7f9a48f36d30>"
      ]
     },
     "execution_count": 72,
     "metadata": {},
     "output_type": "execute_result"
    },
    {
     "data": {
      "image/png": "[encoded data removed]",
      "text/plain": [
       "<Figure size 432x288 with 1 Axes>"
      ]
     },
     "metadata": {
      "needs_background": "light"
     },
     "output_type": "display_data"
    }
   ],
   "source": [
    "#plt.scatter(x_test[:,-1], y_test[:,-1])"
   ]
  },
  {
   "cell_type": "markdown",
   "metadata": {},
   "source": [
    "Using 2nd approach - Classification"
   ]
  },
  {
   "cell_type": "code",
   "execution_count": 73,
   "metadata": {},
   "outputs": [
    {
     "data": {
      "text/plain": [
       "46"
      ]
     },
     "execution_count": 73,
     "metadata": {},
     "output_type": "execute_result"
    }
   ],
   "source": [
    "modeldata = teen_data[['Q1A','Q6A','Q8A','Q11A','Q12A','Q14A','Q18A','Q22A','Q27A','Q29A','Q32A','Q33A','Q35A','Q39A',\n",
    "\"Q2A\",\"Q4A\",\"Q7A\",\"Q9A\",\"Q15A\",\"Q19A\",\"Q20A\",\"Q23A\",\"Q25A\",\"Q28A\",\"Q30A\",\"Q36A\",\"Q40A\",\"Q41A\",'age',\"Q3A\",\"Q5A\",\"Q10A\",\"Q13A\",\"Q16A\",\"Q17A\",\"Q21A\",\"Q24A\",\"Q26A\",\"Q31A\",\"Q34A\",\"Q37A\",\"Q38A\",\"Q42A\",'Stress','Depression','Anxiety']]\n",
    "\n",
    "\n",
    "len(modeldata.columns)"
   ]
  },
  {
   "cell_type": "code",
   "execution_count": 74,
   "metadata": {},
   "outputs": [],
   "source": [
    "X = modeldata.iloc[:, :43].values\n",
    "Y = modeldata.iloc[:, 43:].values\n",
    "\n",
    "x_train, x_test, y_train, y_test = train_test_split(X, Y, \n",
    "    test_size=0.2, random_state= 8)"
   ]
  },
  {
   "cell_type": "code",
   "execution_count": 75,
   "metadata": {},
   "outputs": [
    {
     "name": "stdout",
     "output_type": "stream",
     "text": [
      "(11060, 43)\n",
      "(11060, 3)\n",
      "(2765, 43)\n",
      "(2765, 3)\n"
     ]
    }
   ],
   "source": [
    "print(x_train.shape)\n",
    "print(y_train.shape)\n",
    "print(x_test.shape)\n",
    "print(y_test.shape)"
   ]
  },
  {
   "cell_type": "code",
   "execution_count": 76,
   "metadata": {},
   "outputs": [
    {
     "name": "stdout",
     "output_type": "stream",
     "text": [
      "(11060, 15)\n",
      "(11060,)\n",
      "(2765, 15)\n",
      "(2765,)\n"
     ]
    }
   ],
   "source": [
    "X_trainA = x_train[:, 14:29]\n",
    "Y_trainA = y_train[:, -1]\n",
    "\n",
    "X_testA = x_test[:, 14:29]\n",
    "Y_testA = y_test[:, -1]\n",
    "\n",
    "print(X_trainA.shape)\n",
    "print(Y_trainA.shape)\n",
    "print(X_testA.shape)\n",
    "print(Y_testA.shape)"
   ]
  },
  {
   "cell_type": "code",
   "execution_count": 77,
   "metadata": {},
   "outputs": [],
   "source": [
    "#Implementing Logistic Regression for Anxiety \n",
    "\n",
    "from sklearn.linear_model import LogisticRegression\n",
    "\n",
    "modelA = LogisticRegression(random_state=0, multi_class='multinomial', solver='saga',max_iter=10000).fit(X_trainA, Y_trainA)\n"
   ]
  },
  {
   "cell_type": "code",
   "execution_count": 78,
   "metadata": {},
   "outputs": [],
   "source": [
    "lrpredA = modelA.predict(X_testA)"
   ]
  },
  {
   "cell_type": "code",
   "execution_count": 79,
   "metadata": {},
   "outputs": [
    {
     "data": {
      "text/plain": [
       "1.0"
      ]
     },
     "execution_count": 79,
     "metadata": {},
     "output_type": "execute_result"
    }
   ],
   "source": [
    "modelA.score(X_trainA, Y_trainA)"
   ]
  },
  {
   "cell_type": "code",
   "execution_count": 80,
   "metadata": {},
   "outputs": [
    {
     "name": "stdout",
     "output_type": "stream",
     "text": [
      "0.9996383363471971\n"
     ]
    }
   ],
   "source": [
    "lraccuracyA = np.mean(lrpredA == Y_testA)\n",
    "\n",
    "print(lraccuracyA)"
   ]
  },
  {
   "cell_type": "code",
   "execution_count": 81,
   "metadata": {},
   "outputs": [
    {
     "name": "stdout",
     "output_type": "stream",
     "text": [
      "              precision    recall  f1-score   support\n",
      "\n",
      " Extremely A       1.00      1.00      1.00      1297\n",
      "      Mild A       1.00      0.99      1.00       172\n",
      "  Moderate A       1.00      1.00      1.00       426\n",
      "    Normal A       1.00      1.00      1.00       423\n",
      "    Severe A       1.00      1.00      1.00       447\n",
      "\n",
      "   micro avg       1.00      1.00      1.00      2765\n",
      "   macro avg       1.00      1.00      1.00      2765\n",
      "weighted avg       1.00      1.00      1.00      2765\n",
      "\n"
     ]
    }
   ],
   "source": [
    "from sklearn.metrics import classification_report\n",
    "\n",
    "print(classification_report(Y_testA, lrpredA))"
   ]
  },
  {
   "cell_type": "code",
   "execution_count": 82,
   "metadata": {},
   "outputs": [],
   "source": [
    "#Implementing Random Forest for Anxiety\n",
    "# Import the model we are using\n",
    "from sklearn.ensemble import RandomForestClassifier\n"
   ]
  },
  {
   "cell_type": "code",
   "execution_count": 83,
   "metadata": {},
   "outputs": [],
   "source": [
    "# Instantiate model with 1000 decision trees\n",
    "rf = RandomForestClassifier(n_estimators = 1000, random_state = 42)\n",
    "# Train the model on training data\n",
    "rf = rf.fit(X_trainA, Y_trainA)"
   ]
  },
  {
   "cell_type": "code",
   "execution_count": 84,
   "metadata": {
    "scrolled": true
   },
   "outputs": [
    {
     "name": "stdout",
     "output_type": "stream",
     "text": [
      "0.8806509945750453\n"
     ]
    }
   ],
   "source": [
    "# Use the forest's predict method on the test data\n",
    "rfpredA = rf.predict(X_testA)\n",
    "\n",
    "rfaccuracyA = np.mean(rfpredA == Y_testA)\n",
    "\n",
    "print(rfaccuracyA)"
   ]
  },
  {
   "cell_type": "code",
   "execution_count": 85,
   "metadata": {},
   "outputs": [
    {
     "name": "stdout",
     "output_type": "stream",
     "text": [
      "Accuracy score is 0.8806509945750453\n"
     ]
    }
   ],
   "source": [
    "from sklearn import metrics\n",
    "\n",
    "print(\"Accuracy score is\", metrics.accuracy_score(Y_testA, rfpredA ))"
   ]
  },
  {
   "cell_type": "code",
   "execution_count": 86,
   "metadata": {},
   "outputs": [
    {
     "name": "stdout",
     "output_type": "stream",
     "text": [
      "              precision    recall  f1-score   support\n",
      "\n",
      " Extremely A       0.96      0.97      0.97      1297\n",
      "      Mild A       0.69      0.20      0.31       172\n",
      "  Moderate A       0.74      0.88      0.80       426\n",
      "    Normal A       0.85      0.98      0.91       423\n",
      "    Severe A       0.84      0.78      0.81       447\n",
      "\n",
      "   micro avg       0.88      0.88      0.88      2765\n",
      "   macro avg       0.82      0.76      0.76      2765\n",
      "weighted avg       0.88      0.88      0.87      2765\n",
      "\n"
     ]
    }
   ],
   "source": [
    "print(classification_report(Y_testA, rfpredA))"
   ]
  },
  {
   "cell_type": "code",
   "execution_count": 87,
   "metadata": {},
   "outputs": [],
   "source": [
    "#Implementing Decision Tree for Anxiety\n",
    "\n",
    "from sklearn.tree import DecisionTreeClassifier\n",
    "from sklearn import tree"
   ]
  },
  {
   "cell_type": "code",
   "execution_count": 88,
   "metadata": {},
   "outputs": [],
   "source": [
    "dt = tree.DecisionTreeClassifier()\n",
    "dt = dt.fit(X_trainA, Y_trainA)"
   ]
  },
  {
   "cell_type": "code",
   "execution_count": 89,
   "metadata": {},
   "outputs": [
    {
     "name": "stdout",
     "output_type": "stream",
     "text": [
      "0.755877034358047\n"
     ]
    }
   ],
   "source": [
    "dtpredA = dt.predict(X_testA)\n",
    "\n",
    "dtaccuracyA = np.mean(dtpredA == Y_testA)\n",
    "\n",
    "print(dtaccuracyA)"
   ]
  },
  {
   "cell_type": "code",
   "execution_count": 90,
   "metadata": {},
   "outputs": [
    {
     "name": "stdout",
     "output_type": "stream",
     "text": [
      "              precision    recall  f1-score   support\n",
      "\n",
      " Extremely A       0.92      0.92      0.92      1297\n",
      "      Mild A       0.33      0.33      0.33       172\n",
      "  Moderate A       0.57      0.57      0.57       426\n",
      "    Normal A       0.82      0.86      0.84       423\n",
      "    Severe A       0.55      0.52      0.54       447\n",
      "\n",
      "   micro avg       0.76      0.76      0.76      2765\n",
      "   macro avg       0.64      0.64      0.64      2765\n",
      "weighted avg       0.75      0.76      0.75      2765\n",
      "\n"
     ]
    }
   ],
   "source": [
    "print(classification_report(Y_testA, dtpredA))"
   ]
  },
  {
   "cell_type": "code",
   "execution_count": 91,
   "metadata": {},
   "outputs": [],
   "source": [
    "#Implementing Support Vector Machine for Anxiety\n",
    "from sklearn.svm import SVC "
   ]
  },
  {
   "cell_type": "code",
   "execution_count": 92,
   "metadata": {},
   "outputs": [],
   "source": [
    "svm = SVC(kernel = 'linear')\n",
    "svm = svm.fit(X_trainA, Y_trainA)"
   ]
  },
  {
   "cell_type": "code",
   "execution_count": 93,
   "metadata": {},
   "outputs": [
    {
     "name": "stdout",
     "output_type": "stream",
     "text": [
      "1.0\n"
     ]
    }
   ],
   "source": [
    "svmpredA = svm.predict(X_testA)\n",
    "\n",
    "svmaccuracyA = np.mean(svmpredA == Y_testA)\n",
    "\n",
    "print(svmaccuracyA)"
   ]
  },
  {
   "cell_type": "code",
   "execution_count": 94,
   "metadata": {},
   "outputs": [
    {
     "name": "stdout",
     "output_type": "stream",
     "text": [
      "              precision    recall  f1-score   support\n",
      "\n",
      " Extremely A       1.00      1.00      1.00      1297\n",
      "      Mild A       1.00      1.00      1.00       172\n",
      "  Moderate A       1.00      1.00      1.00       426\n",
      "    Normal A       1.00      1.00      1.00       423\n",
      "    Severe A       1.00      1.00      1.00       447\n",
      "\n",
      "   micro avg       1.00      1.00      1.00      2765\n",
      "   macro avg       1.00      1.00      1.00      2765\n",
      "weighted avg       1.00      1.00      1.00      2765\n",
      "\n"
     ]
    }
   ],
   "source": [
    "print(classification_report(Y_testA, svmpredA))"
   ]
  },
  {
   "cell_type": "code",
   "execution_count": 95,
   "metadata": {},
   "outputs": [],
   "source": [
    "#Implementing Naive Bayes for Anxiety\n",
    "from sklearn.naive_bayes import GaussianNB"
   ]
  },
  {
   "cell_type": "code",
   "execution_count": 96,
   "metadata": {},
   "outputs": [],
   "source": [
    "gnb = GaussianNB()\n",
    "gnb = gnb.fit(X_trainA, Y_trainA)"
   ]
  },
  {
   "cell_type": "code",
   "execution_count": 97,
   "metadata": {
    "scrolled": true
   },
   "outputs": [
    {
     "name": "stdout",
     "output_type": "stream",
     "text": [
      "0.8209764918625678\n"
     ]
    }
   ],
   "source": [
    "gnbpredA = gnb.predict(X_testA)\n",
    "\n",
    "gnbaccuracyA = np.mean(gnbpredA == Y_testA)\n",
    "\n",
    "print(gnbaccuracyA)"
   ]
  },
  {
   "cell_type": "code",
   "execution_count": 98,
   "metadata": {},
   "outputs": [
    {
     "name": "stdout",
     "output_type": "stream",
     "text": [
      "              precision    recall  f1-score   support\n",
      "\n",
      " Extremely A       1.00      0.86      0.93      1297\n",
      "      Mild A       0.52      0.34      0.41       172\n",
      "  Moderate A       0.69      0.83      0.75       426\n",
      "    Normal A       0.91      0.86      0.88       423\n",
      "    Severe A       0.61      0.85      0.71       447\n",
      "\n",
      "   micro avg       0.82      0.82      0.82      2765\n",
      "   macro avg       0.74      0.75      0.74      2765\n",
      "weighted avg       0.84      0.82      0.82      2765\n",
      "\n"
     ]
    }
   ],
   "source": [
    "print(classification_report(Y_testA, gnbpredA))"
   ]
  },
  {
   "cell_type": "code",
   "execution_count": 99,
   "metadata": {},
   "outputs": [
    {
     "data": {
      "text/plain": [
       "(11060, 15)"
      ]
     },
     "execution_count": 99,
     "metadata": {},
     "output_type": "execute_result"
    }
   ],
   "source": [
    "X_trainA.shape"
   ]
  },
  {
   "cell_type": "markdown",
   "metadata": {},
   "source": [
    "Model training for Stress"
   ]
  },
  {
   "cell_type": "code",
   "execution_count": 100,
   "metadata": {},
   "outputs": [],
   "source": [
    "modeldataS = teen_data[['age','Q1A','Q6A','Q8A','Q11A','Q12A','Q14A','Q18A','Q22A','Q27A','Q29A','Q32A','Q33A','Q35A','Q39A',\n",
    "\"Q2A\",\"Q4A\",\"Q7A\",\"Q9A\",\"Q15A\",\"Q19A\",\"Q20A\",\"Q23A\",\"Q25A\",\"Q28A\",\"Q30A\",\"Q36A\",\"Q40A\",\"Q41A\",\"Q3A\",\"Q5A\",\"Q10A\",\"Q13A\",\"Q16A\",\"Q17A\",\"Q21A\",\"Q24A\",\"Q26A\",\"Q31A\",\"Q34A\",\"Q37A\",\"Q38A\",\"Q42A\",'Stress','Depression','Anxiety']]\n"
   ]
  },
  {
   "cell_type": "code",
   "execution_count": 101,
   "metadata": {},
   "outputs": [],
   "source": [
    "X = modeldataS.iloc[:, :43].values\n",
    "Y = modeldataS.iloc[:, 43:].values\n",
    "\n",
    "x_train, x_test, y_train, y_test = train_test_split(X, Y, \n",
    "    test_size=0.2, random_state= 8)"
   ]
  },
  {
   "cell_type": "code",
   "execution_count": 102,
   "metadata": {},
   "outputs": [
    {
     "name": "stdout",
     "output_type": "stream",
     "text": [
      "(11060, 15)\n",
      "(11060,)\n",
      "(2765, 15)\n",
      "(2765,)\n"
     ]
    }
   ],
   "source": [
    "X_trainS = x_train[:, :15]\n",
    "Y_trainS = y_train[:, -3]\n",
    "\n",
    "X_testS = x_test[:, :15]\n",
    "Y_testS = y_test[:, -3]\n",
    "\n",
    "print(X_trainS.shape)\n",
    "print(Y_trainS.shape)\n",
    "print(X_testS.shape)\n",
    "print(Y_testS.shape)"
   ]
  },
  {
   "cell_type": "code",
   "execution_count": 103,
   "metadata": {},
   "outputs": [],
   "source": [
    "#Implementing Logistic Regression for Stress\n",
    "\n",
    "modelS = LogisticRegression(random_state=0, multi_class='multinomial', solver='saga',max_iter=10000).fit(X_trainS, Y_trainS)\n"
   ]
  },
  {
   "cell_type": "code",
   "execution_count": 104,
   "metadata": {},
   "outputs": [],
   "source": [
    "lrpredS = modelS.predict(X_testS)"
   ]
  },
  {
   "cell_type": "code",
   "execution_count": 105,
   "metadata": {},
   "outputs": [
    {
     "data": {
      "text/plain": [
       "1.0"
      ]
     },
     "execution_count": 105,
     "metadata": {},
     "output_type": "execute_result"
    }
   ],
   "source": [
    "modelS.score(X_trainS, Y_trainS)"
   ]
  },
  {
   "cell_type": "code",
   "execution_count": 106,
   "metadata": {},
   "outputs": [
    {
     "name": "stdout",
     "output_type": "stream",
     "text": [
      "0.9996383363471971\n"
     ]
    }
   ],
   "source": [
    "lraccuracyS = np.mean(lrpredS == Y_testS)\n",
    "\n",
    "print(lraccuracyS)"
   ]
  },
  {
   "cell_type": "code",
   "execution_count": 107,
   "metadata": {},
   "outputs": [
    {
     "name": "stdout",
     "output_type": "stream",
     "text": [
      "              precision    recall  f1-score   support\n",
      "\n",
      " Extremely S       1.00      1.00      1.00       508\n",
      "      Mild S       1.00      1.00      1.00       326\n",
      "  Moderate S       1.00      1.00      1.00       649\n",
      "    Normal S       1.00      1.00      1.00       597\n",
      "    Severe S       1.00      1.00      1.00       685\n",
      "\n",
      "   micro avg       1.00      1.00      1.00      2765\n",
      "   macro avg       1.00      1.00      1.00      2765\n",
      "weighted avg       1.00      1.00      1.00      2765\n",
      "\n"
     ]
    }
   ],
   "source": [
    "print(classification_report(Y_testS, lrpredS))"
   ]
  },
  {
   "cell_type": "code",
   "execution_count": 108,
   "metadata": {},
   "outputs": [],
   "source": [
    "#Implementing Random Forest for Stress\n"
   ]
  },
  {
   "cell_type": "code",
   "execution_count": 109,
   "metadata": {},
   "outputs": [],
   "source": [
    "# Instantiate model with 1000 decision trees\n",
    "rf = RandomForestClassifier(n_estimators = 1000, random_state = 42)\n",
    "# Train the model on training data\n",
    "rf = rf.fit(X_trainS, Y_trainS)"
   ]
  },
  {
   "cell_type": "code",
   "execution_count": 110,
   "metadata": {},
   "outputs": [
    {
     "name": "stdout",
     "output_type": "stream",
     "text": [
      "0.9009041591320073\n"
     ]
    }
   ],
   "source": [
    "# Use the forest's predict method on the test data\n",
    "rfpredS = rf.predict(X_testS)\n",
    "\n",
    "rfaccuracyS = np.mean(rfpredS == Y_testS)\n",
    "\n",
    "print(rfaccuracyS)"
   ]
  },
  {
   "cell_type": "code",
   "execution_count": 111,
   "metadata": {},
   "outputs": [
    {
     "name": "stdout",
     "output_type": "stream",
     "text": [
      "Accuracy score is 0.9009041591320073\n"
     ]
    }
   ],
   "source": [
    "\n",
    "print(\"Accuracy score is\", metrics.accuracy_score(Y_testS, rfpredS ))"
   ]
  },
  {
   "cell_type": "code",
   "execution_count": 112,
   "metadata": {},
   "outputs": [
    {
     "name": "stdout",
     "output_type": "stream",
     "text": [
      "              precision    recall  f1-score   support\n",
      "\n",
      " Extremely S       0.97      0.92      0.95       508\n",
      "      Mild S       0.86      0.65      0.74       326\n",
      "  Moderate S       0.85      0.92      0.88       649\n",
      "    Normal S       0.93      0.97      0.95       597\n",
      "    Severe S       0.89      0.93      0.91       685\n",
      "\n",
      "   micro avg       0.90      0.90      0.90      2765\n",
      "   macro avg       0.90      0.88      0.89      2765\n",
      "weighted avg       0.90      0.90      0.90      2765\n",
      "\n"
     ]
    }
   ],
   "source": [
    "print(classification_report(Y_testS, rfpredS))"
   ]
  },
  {
   "cell_type": "code",
   "execution_count": 113,
   "metadata": {},
   "outputs": [],
   "source": [
    "#Implementing Decision Tree for Stress"
   ]
  },
  {
   "cell_type": "code",
   "execution_count": 114,
   "metadata": {},
   "outputs": [],
   "source": [
    "dt = tree.DecisionTreeClassifier()\n",
    "dt = dt.fit(X_trainS, Y_trainS)"
   ]
  },
  {
   "cell_type": "code",
   "execution_count": 115,
   "metadata": {},
   "outputs": [
    {
     "name": "stdout",
     "output_type": "stream",
     "text": [
      "0.74249547920434\n"
     ]
    }
   ],
   "source": [
    "dtpredS = dt.predict(X_testS)\n",
    "\n",
    "dtaccuracyS = np.mean(dtpredS == Y_testS)\n",
    "\n",
    "print(dtaccuracyS)"
   ]
  },
  {
   "cell_type": "code",
   "execution_count": 116,
   "metadata": {},
   "outputs": [
    {
     "name": "stdout",
     "output_type": "stream",
     "text": [
      "              precision    recall  f1-score   support\n",
      "\n",
      " Extremely S       0.85      0.85      0.85       508\n",
      "      Mild S       0.49      0.49      0.49       326\n",
      "  Moderate S       0.70      0.67      0.68       649\n",
      "    Normal S       0.85      0.88      0.86       597\n",
      "    Severe S       0.73      0.73      0.73       685\n",
      "\n",
      "   micro avg       0.74      0.74      0.74      2765\n",
      "   macro avg       0.72      0.72      0.72      2765\n",
      "weighted avg       0.74      0.74      0.74      2765\n",
      "\n"
     ]
    }
   ],
   "source": [
    "print(classification_report(Y_testS, dtpredS))"
   ]
  },
  {
   "cell_type": "code",
   "execution_count": 117,
   "metadata": {},
   "outputs": [],
   "source": [
    "#Implementing SVM for Stress\n"
   ]
  },
  {
   "cell_type": "code",
   "execution_count": 118,
   "metadata": {},
   "outputs": [],
   "source": [
    "svm = SVC(kernel = 'linear')\n",
    "svm = svm.fit(X_trainS, Y_trainS)"
   ]
  },
  {
   "cell_type": "code",
   "execution_count": 119,
   "metadata": {},
   "outputs": [
    {
     "name": "stdout",
     "output_type": "stream",
     "text": [
      "1.0\n"
     ]
    }
   ],
   "source": [
    "svmpredS = svm.predict(X_testS)\n",
    "\n",
    "svmaccuracyS = np.mean(svmpredS == Y_testS)\n",
    "\n",
    "print(svmaccuracyS)"
   ]
  },
  {
   "cell_type": "code",
   "execution_count": 120,
   "metadata": {},
   "outputs": [
    {
     "name": "stdout",
     "output_type": "stream",
     "text": [
      "              precision    recall  f1-score   support\n",
      "\n",
      " Extremely S       1.00      1.00      1.00       508\n",
      "      Mild S       1.00      1.00      1.00       326\n",
      "  Moderate S       1.00      1.00      1.00       649\n",
      "    Normal S       1.00      1.00      1.00       597\n",
      "    Severe S       1.00      1.00      1.00       685\n",
      "\n",
      "   micro avg       1.00      1.00      1.00      2765\n",
      "   macro avg       1.00      1.00      1.00      2765\n",
      "weighted avg       1.00      1.00      1.00      2765\n",
      "\n"
     ]
    }
   ],
   "source": [
    "print(classification_report(Y_testS, svmpredS))"
   ]
  },
  {
   "cell_type": "code",
   "execution_count": 121,
   "metadata": {},
   "outputs": [],
   "source": [
    "#Implementing Naive Bayes for Stress"
   ]
  },
  {
   "cell_type": "code",
   "execution_count": 122,
   "metadata": {},
   "outputs": [],
   "source": [
    "gnb = GaussianNB()\n",
    "gnb = gnb.fit(X_trainS, Y_trainS)"
   ]
  },
  {
   "cell_type": "code",
   "execution_count": 123,
   "metadata": {},
   "outputs": [
    {
     "name": "stdout",
     "output_type": "stream",
     "text": [
      "0.894755877034358\n"
     ]
    }
   ],
   "source": [
    "gnbpredS = gnb.predict(X_testS)\n",
    "\n",
    "gnbaccuracyS = np.mean(gnbpredS == Y_testS)\n",
    "\n",
    "print(gnbaccuracyS)"
   ]
  },
  {
   "cell_type": "code",
   "execution_count": 124,
   "metadata": {},
   "outputs": [
    {
     "data": {
      "text/plain": [
       "(11060, 15)"
      ]
     },
     "execution_count": 124,
     "metadata": {},
     "output_type": "execute_result"
    }
   ],
   "source": [
    "X_trainS.shape"
   ]
  },
  {
   "cell_type": "code",
   "execution_count": 125,
   "metadata": {},
   "outputs": [
    {
     "name": "stdout",
     "output_type": "stream",
     "text": [
      "              precision    recall  f1-score   support\n",
      "\n",
      " Extremely S       0.96      0.86      0.91       508\n",
      "      Mild S       0.75      0.85      0.80       326\n",
      "  Moderate S       0.87      0.94      0.90       649\n",
      "    Normal S       1.00      0.88      0.93       597\n",
      "    Severe S       0.87      0.92      0.89       685\n",
      "\n",
      "   micro avg       0.89      0.89      0.89      2765\n",
      "   macro avg       0.89      0.89      0.89      2765\n",
      "weighted avg       0.90      0.89      0.90      2765\n",
      "\n"
     ]
    }
   ],
   "source": [
    "print(classification_report(Y_testS, gnbpredS))"
   ]
  },
  {
   "cell_type": "markdown",
   "metadata": {},
   "source": [
    "# Model for Depression"
   ]
  },
  {
   "cell_type": "code",
   "execution_count": 126,
   "metadata": {},
   "outputs": [],
   "source": [
    "modeldataD = teen_data[['Q1A','Q6A','Q8A','Q11A','Q12A','Q14A','Q18A','Q22A','Q27A','Q29A','Q32A','Q33A','Q35A','Q39A',\n",
    "\"Q2A\",\"Q4A\",\"Q7A\",\"Q9A\",\"Q15A\",\"Q19A\",\"Q20A\",\"Q23A\",\"Q25A\",\"Q28A\",\"Q30A\",\"Q36A\",\"Q40A\",\"Q41A\",\"Q3A\",\"Q5A\",\"Q10A\",\"Q13A\",\"Q16A\",\"Q17A\",\"Q21A\",\"Q24A\",\"Q26A\",\"Q31A\",\"Q34A\",\"Q37A\",\"Q38A\",\"Q42A\",'age','Stress','Depression','Anxiety']]\n"
   ]
  },
  {
   "cell_type": "code",
   "execution_count": 127,
   "metadata": {},
   "outputs": [],
   "source": [
    "X = modeldataD.iloc[:, :43].values\n",
    "Y = modeldataD.iloc[:, 43:].values\n",
    "\n",
    "x_train, x_test, y_train, y_test = train_test_split(X, Y, \n",
    "    test_size=0.2, random_state= 8)"
   ]
  },
  {
   "cell_type": "code",
   "execution_count": 128,
   "metadata": {},
   "outputs": [
    {
     "name": "stdout",
     "output_type": "stream",
     "text": [
      "(11060, 15)\n",
      "(11060,)\n",
      "(2765, 15)\n",
      "(2765,)\n"
     ]
    }
   ],
   "source": [
    "X_trainD = x_train[:, 28:43]\n",
    "Y_trainD = y_train[:, -2]\n",
    "\n",
    "X_testD = x_test[:, 28:43]\n",
    "Y_testD = y_test[:, -2]\n",
    "\n",
    "print(X_trainD.shape)\n",
    "print(Y_trainD.shape)\n",
    "print(X_testD.shape)\n",
    "print(Y_testD.shape)"
   ]
  },
  {
   "cell_type": "code",
   "execution_count": 129,
   "metadata": {},
   "outputs": [],
   "source": [
    "#Implementing Logistic Regression for Depression\n",
    "\n",
    "modelD = LogisticRegression(random_state=0, multi_class='multinomial', solver='saga',max_iter=10000).fit(X_trainD, Y_trainD)\n"
   ]
  },
  {
   "cell_type": "code",
   "execution_count": 130,
   "metadata": {},
   "outputs": [],
   "source": [
    "lrpredD = modelD.predict(X_testD)"
   ]
  },
  {
   "cell_type": "code",
   "execution_count": 131,
   "metadata": {},
   "outputs": [
    {
     "data": {
      "text/plain": [
       "0.9954792043399638"
      ]
     },
     "execution_count": 131,
     "metadata": {},
     "output_type": "execute_result"
    }
   ],
   "source": [
    "modelD.score(X_trainD, Y_trainD)"
   ]
  },
  {
   "cell_type": "code",
   "execution_count": 132,
   "metadata": {},
   "outputs": [
    {
     "name": "stdout",
     "output_type": "stream",
     "text": [
      "0.9927667269439421\n"
     ]
    }
   ],
   "source": [
    "lraccuracyD = np.mean(lrpredD == Y_testD)\n",
    "\n",
    "print(lraccuracyD)"
   ]
  },
  {
   "cell_type": "code",
   "execution_count": 133,
   "metadata": {},
   "outputs": [
    {
     "name": "stdout",
     "output_type": "stream",
     "text": [
      "              precision    recall  f1-score   support\n",
      "\n",
      " Extremely D       1.00      1.00      1.00      1680\n",
      "      Mild D       0.97      1.00      0.98       232\n",
      "  Moderate D       1.00      0.68      0.81        63\n",
      "    Normal D       1.00      1.00      1.00       461\n",
      "    Severe D       0.96      1.00      0.98       329\n",
      "\n",
      "   micro avg       0.99      0.99      0.99      2765\n",
      "   macro avg       0.99      0.94      0.96      2765\n",
      "weighted avg       0.99      0.99      0.99      2765\n",
      "\n"
     ]
    }
   ],
   "source": [
    "print(classification_report(Y_testD, lrpredD))"
   ]
  },
  {
   "cell_type": "code",
   "execution_count": 134,
   "metadata": {},
   "outputs": [],
   "source": [
    "#Implementing Random Forest for Depression"
   ]
  },
  {
   "cell_type": "code",
   "execution_count": 135,
   "metadata": {},
   "outputs": [],
   "source": [
    "# Instantiate model with 1000 decision trees\n",
    "rf = RandomForestClassifier(n_estimators = 1000, random_state = 42)\n",
    "# Train the model on training data\n",
    "rf = rf.fit(X_trainD, Y_trainD)"
   ]
  },
  {
   "cell_type": "code",
   "execution_count": 136,
   "metadata": {},
   "outputs": [
    {
     "name": "stdout",
     "output_type": "stream",
     "text": [
      "0.9316455696202531\n"
     ]
    }
   ],
   "source": [
    "# Use the forest's predict method on the test data\n",
    "rfpredD = rf.predict(X_testD)\n",
    "\n",
    "rfaccuracyD = np.mean(rfpredD == Y_testD)\n",
    "\n",
    "print(rfaccuracyD)"
   ]
  },
  {
   "cell_type": "code",
   "execution_count": 137,
   "metadata": {},
   "outputs": [
    {
     "name": "stdout",
     "output_type": "stream",
     "text": [
      "Accuracy score is 0.9316455696202531\n"
     ]
    }
   ],
   "source": [
    "print(\"Accuracy score is\", metrics.accuracy_score(Y_testD, rfpredD ))"
   ]
  },
  {
   "cell_type": "code",
   "execution_count": 138,
   "metadata": {},
   "outputs": [
    {
     "name": "stdout",
     "output_type": "stream",
     "text": [
      "              precision    recall  f1-score   support\n",
      "\n",
      " Extremely D       0.98      0.99      0.98      1680\n",
      "      Mild D       0.80      0.76      0.78       232\n",
      "  Moderate D       0.56      0.08      0.14        63\n",
      "    Normal D       0.93      0.98      0.95       461\n",
      "    Severe D       0.81      0.84      0.82       329\n",
      "\n",
      "   micro avg       0.93      0.93      0.93      2765\n",
      "   macro avg       0.81      0.73      0.74      2765\n",
      "weighted avg       0.92      0.93      0.92      2765\n",
      "\n"
     ]
    }
   ],
   "source": [
    "print(classification_report(Y_testD, rfpredD))"
   ]
  },
  {
   "cell_type": "code",
   "execution_count": 139,
   "metadata": {},
   "outputs": [],
   "source": [
    "#Implementing Decision Tree for Depression"
   ]
  },
  {
   "cell_type": "code",
   "execution_count": 140,
   "metadata": {},
   "outputs": [],
   "source": [
    "dt = tree.DecisionTreeClassifier()\n",
    "dt = dt.fit(X_trainD, Y_trainD)"
   ]
  },
  {
   "cell_type": "code",
   "execution_count": 141,
   "metadata": {},
   "outputs": [
    {
     "name": "stdout",
     "output_type": "stream",
     "text": [
      "0.8531645569620253\n"
     ]
    }
   ],
   "source": [
    "dtpredD = dt.predict(X_testD)\n",
    "\n",
    "dtaccuracyD = np.mean(dtpredD == Y_testD)\n",
    "\n",
    "print(dtaccuracyD)"
   ]
  },
  {
   "cell_type": "code",
   "execution_count": 142,
   "metadata": {},
   "outputs": [
    {
     "name": "stdout",
     "output_type": "stream",
     "text": [
      "              precision    recall  f1-score   support\n",
      "\n",
      " Extremely D       0.95      0.96      0.96      1680\n",
      "      Mild D       0.55      0.55      0.55       232\n",
      "  Moderate D       0.15      0.16      0.15        63\n",
      "    Normal D       0.88      0.89      0.89       461\n",
      "    Severe D       0.63      0.59      0.61       329\n",
      "\n",
      "   micro avg       0.85      0.85      0.85      2765\n",
      "   macro avg       0.63      0.63      0.63      2765\n",
      "weighted avg       0.85      0.85      0.85      2765\n",
      "\n"
     ]
    }
   ],
   "source": [
    "print(classification_report(Y_testD, dtpredD))"
   ]
  },
  {
   "cell_type": "code",
   "execution_count": 143,
   "metadata": {},
   "outputs": [],
   "source": [
    "#Implementing the SVM model for Depression"
   ]
  },
  {
   "cell_type": "code",
   "execution_count": 144,
   "metadata": {},
   "outputs": [],
   "source": [
    "svm = SVC(kernel = 'linear')\n",
    "svm = svm.fit(X_trainD, Y_trainD)"
   ]
  },
  {
   "cell_type": "code",
   "execution_count": 145,
   "metadata": {},
   "outputs": [
    {
     "name": "stdout",
     "output_type": "stream",
     "text": [
      "1.0\n"
     ]
    }
   ],
   "source": [
    "svmpredD = svm.predict(X_testD)\n",
    "\n",
    "svmaccuracyD = np.mean(svmpredD == Y_testD)\n",
    "\n",
    "print(svmaccuracyD)"
   ]
  },
  {
   "cell_type": "code",
   "execution_count": 146,
   "metadata": {},
   "outputs": [
    {
     "name": "stdout",
     "output_type": "stream",
     "text": [
      "              precision    recall  f1-score   support\n",
      "\n",
      " Extremely D       1.00      1.00      1.00      1680\n",
      "      Mild D       1.00      1.00      1.00       232\n",
      "  Moderate D       1.00      1.00      1.00        63\n",
      "    Normal D       1.00      1.00      1.00       461\n",
      "    Severe D       1.00      1.00      1.00       329\n",
      "\n",
      "   micro avg       1.00      1.00      1.00      2765\n",
      "   macro avg       1.00      1.00      1.00      2765\n",
      "weighted avg       1.00      1.00      1.00      2765\n",
      "\n"
     ]
    }
   ],
   "source": [
    "print(classification_report(Y_testD, svmpredD))"
   ]
  },
  {
   "cell_type": "code",
   "execution_count": 147,
   "metadata": {},
   "outputs": [
    {
     "name": "stdout",
     "output_type": "stream",
     "text": [
      "              precision    recall  f1-score   support\n",
      "\n",
      " Extremely D       1.00      1.00      1.00      1680\n",
      "      Mild D       1.00      1.00      1.00       232\n",
      "  Moderate D       1.00      1.00      1.00        63\n",
      "    Normal D       1.00      1.00      1.00       461\n",
      "    Severe D       1.00      1.00      1.00       329\n",
      "\n",
      "   micro avg       1.00      1.00      1.00      2765\n",
      "   macro avg       1.00      1.00      1.00      2765\n",
      "weighted avg       1.00      1.00      1.00      2765\n",
      "\n"
     ]
    }
   ],
   "source": [
    "print(classification_report(Y_testD, svmpredD))"
   ]
  },
  {
   "cell_type": "code",
   "execution_count": 148,
   "metadata": {},
   "outputs": [],
   "source": [
    "#Implementing Naive Bayes for Depression"
   ]
  },
  {
   "cell_type": "code",
   "execution_count": 149,
   "metadata": {},
   "outputs": [],
   "source": [
    "gnb = GaussianNB()\n",
    "gnb = gnb.fit(X_trainD, Y_trainD)"
   ]
  },
  {
   "cell_type": "code",
   "execution_count": 150,
   "metadata": {},
   "outputs": [
    {
     "name": "stdout",
     "output_type": "stream",
     "text": [
      "0.854249547920434\n"
     ]
    }
   ],
   "source": [
    "gnbpredD = gnb.predict(X_testD)\n",
    "\n",
    "gnbaccuracyD = np.mean(gnbpredD == Y_testD)\n",
    "\n",
    "print(gnbaccuracyD)"
   ]
  },
  {
   "cell_type": "code",
   "execution_count": 151,
   "metadata": {},
   "outputs": [
    {
     "name": "stdout",
     "output_type": "stream",
     "text": [
      "              precision    recall  f1-score   support\n",
      "\n",
      " Extremely D       1.00      0.86      0.92      1680\n",
      "      Mild D       0.67      0.87      0.76       232\n",
      "  Moderate D       0.00      0.00      0.00        63\n",
      "    Normal D       1.00      0.87      0.93       461\n",
      "    Severe D       0.52      0.98      0.68       329\n",
      "\n",
      "   micro avg       0.85      0.85      0.85      2765\n",
      "   macro avg       0.64      0.71      0.66      2765\n",
      "weighted avg       0.89      0.85      0.86      2765\n",
      "\n"
     ]
    }
   ],
   "source": [
    "print(classification_report(Y_testD, gnbpredD))"
   ]
  },
  {
   "cell_type": "raw",
   "metadata": {},
   "source": [
    "X_trainD.shape"
   ]
  }
 ],
 "metadata": {
  "kernelspec": {
   "display_name": "Python 3",
   "language": "python",
   "name": "python3"
  },
  "language_info": {
   "codemirror_mode": {
    "name": "ipython",
    "version": 3
   },
   "file_extension": ".py",
   "mimetype": "text/x-python",
   "name": "python",
   "nbconvert_exporter": "python",
   "pygments_lexer": "ipython3",
   "version": "3.7.3"
  }
 },
 "nbformat": 4,
 "nbformat_minor": 2
}
